{
  "nbformat": 4,
  "nbformat_minor": 0,
  "metadata": {
    "colab": {
      "provenance": []
    },
    "kernelspec": {
      "name": "python3",
      "display_name": "Python 3"
    },
    "language_info": {
      "name": "python"
    }
  },
  "cells": [
    {
      "cell_type": "markdown",
      "source": [
        "#**Assignment** "
      ],
      "metadata": {
        "id": "ZYUjTXklpCIK"
      }
    },
    {
      "cell_type": "markdown",
      "source": [
        "## This is the assignment in week 04 of oops concept in pyhton"
      ],
      "metadata": {
        "id": "nPEIXU8CpYoE"
      }
    },
    {
      "cell_type": "markdown",
      "source": [
        "# ---------------------------------------------------------------------------"
      ],
      "metadata": {
        "id": "McuvgSBYplJl"
      }
    },
    {
      "cell_type": "markdown",
      "source": [
        "###Q1. Explain Class and Object with respect to Object-Oriented Programming. Give a suitable example."
      ],
      "metadata": {
        "id": "YadvsTk4pevr"
      }
    },
    {
      "cell_type": "markdown",
      "source": [
        "Ans -  In object-oriented programming (OOP), a class is a blueprint or template that defines the attributes (data) and behaviors (methods) that objects of the class should have. It represents a concept or a type of object. A class defines the structure and behavior of objects, but it does not represent a specific instance of the object.\n",
        "\n",
        "An object, on the other hand, is an instance of a class. It is a tangible representation of the class, created using the blueprint provided by the class. An object has its own unique state (attribute values) and can perform actions (methods) defined by its class."
      ],
      "metadata": {
        "id": "1weXfz2Ppq23"
      }
    },
    {
      "cell_type": "code",
      "execution_count": 1,
      "metadata": {
        "id": "tkHjmIyxo0Pf"
      },
      "outputs": [],
      "source": [
        "class Car:\n",
        "    def __init__(self, brand, model, color):\n",
        "        self.brand = brand\n",
        "        self.model = model\n",
        "        self.color = color\n",
        "\n",
        "    def start_engine(self):\n",
        "        print(\"Engine started.\")\n",
        "\n",
        "    def stop_engine(self):\n",
        "        print(\"Engine stopped.\")\n",
        "\n",
        "\n"
      ]
    },
    {
      "cell_type": "code",
      "source": [
        "# Create objects of the Car class\n",
        "car1 = Car(\"Toyota\", \"Corolla\", \"Blue\")\n",
        "car2 = Car(\"Honda\", \"Civic\", \"Red\")\n"
      ],
      "metadata": {
        "id": "ySa954Vap0wb"
      },
      "execution_count": 2,
      "outputs": []
    },
    {
      "cell_type": "code",
      "source": [
        "# Accessing object attributes\n",
        "print(car1.brand)  \n",
        "print(car2.model) "
      ],
      "metadata": {
        "colab": {
          "base_uri": "https://localhost:8080/"
        },
        "id": "5PIgzuWSp0uE",
        "outputId": "0a395dc7-d85f-4a40-d802-140ba9908a08"
      },
      "execution_count": 3,
      "outputs": [
        {
          "output_type": "stream",
          "name": "stdout",
          "text": [
            "Toyota\n",
            "Civic\n"
          ]
        }
      ]
    },
    {
      "cell_type": "code",
      "source": [
        "# Calling object methods\n",
        "car1.start_engine()  \n",
        "car2.stop_engine()  "
      ],
      "metadata": {
        "colab": {
          "base_uri": "https://localhost:8080/"
        },
        "id": "8J1WGi8yp0re",
        "outputId": "a66d57d3-5ead-4d8b-ab68-b5718d5f9961"
      },
      "execution_count": 4,
      "outputs": [
        {
          "output_type": "stream",
          "name": "stdout",
          "text": [
            "Engine started.\n",
            "Engine stopped.\n"
          ]
        }
      ]
    },
    {
      "cell_type": "code",
      "source": [],
      "metadata": {
        "id": "GbE-Duzpp0m9"
      },
      "execution_count": null,
      "outputs": []
    },
    {
      "cell_type": "markdown",
      "source": [
        "### Q2. Name the four pillars of OOPs."
      ],
      "metadata": {
        "id": "n7wxbr3uqevE"
      }
    },
    {
      "cell_type": "markdown",
      "source": [
        "Ans-\n",
        "The four pillars of object-oriented programming (OOP) are:\n",
        "\n",
        "1. Encapsulation: Encapsulation refers to the bundling of data (attributes) and methods (behaviors) within a class. It involves hiding the internal details and providing a public interface to interact with the object. Encapsulation helps in achieving data abstraction and information hiding, ensuring that the object's state can only be accessed and modified through defined methods, promoting data integrity and security.\n",
        "\n",
        "2. Inheritance: Inheritance allows the creation of new classes (derived classes) based on existing classes (base classes). The derived classes inherit the attributes and behaviors of the base class, enabling code reuse and the establishment of an \"is-a\" relationship. Inheritance promotes hierarchical organization and supports the concept of specialization and generalization.\n",
        "\n",
        "3. Polymorphism: Polymorphism allows objects of different classes to be treated as objects of a common base class. It provides a way to perform a single action in different ways based on the object type. Polymorphism is achieved through method overriding (having the same method name in different classes with different implementations) and method overloading (having multiple methods with the same name but different parameters). It promotes code flexibility, extensibility, and the ability to write more generic and reusable code.\n",
        "\n",
        "4. Abstraction: Abstraction involves representing the essential features and behaviors of an object while hiding unnecessary details. It focuses on defining the interface or contract for a class, without providing the implementation details. Abstraction allows the creation of abstract classes and interfaces, which serve as blueprints for concrete classes. It helps in managing complexity, reducing dependencies, and promoting modular design.\n",
        "\n"
      ],
      "metadata": {
        "id": "UD1bQC6TqUF1"
      }
    },
    {
      "cell_type": "code",
      "source": [],
      "metadata": {
        "id": "jLJiTPKmp0kl"
      },
      "execution_count": null,
      "outputs": []
    },
    {
      "cell_type": "markdown",
      "source": [
        "### Q3. Explain why the __init__() function is used. Give a suitable example."
      ],
      "metadata": {
        "id": "sZBYE38OrEw1"
      }
    },
    {
      "cell_type": "markdown",
      "source": [
        "Ans - The __init__() function in Python is a special method, also known as the constructor, that is automatically called when an object of a class is created. It is used to initialize the object's attributes and perform any necessary setup or initialization tasks.\n",
        "\n",
        "The primary purpose of the __init__() function is to ensure that the object starts in a valid state by initializing its attributes with appropriate values. It allows you to set the initial values of the object's attributes based on the arguments passed during object creation."
      ],
      "metadata": {
        "id": "WHcOWV_2qkm2"
      }
    },
    {
      "cell_type": "code",
      "source": [
        "class Person:\n",
        "    def __init__(self, name, age):\n",
        "        self.name = name\n",
        "        self.age = age\n",
        "\n",
        "    def introduce(self):\n",
        "        print(f\"Hi, my name is {self.name} and I am {self.age} years old.\")\n",
        "\n",
        "\n"
      ],
      "metadata": {
        "id": "bQHYuXVVrEGU"
      },
      "execution_count": 5,
      "outputs": []
    },
    {
      "cell_type": "code",
      "source": [
        "# Create objects of the Person class\n",
        "person1 = Person(\"Kuldeep\", 20)\n",
        "person2 = Person(\"Sudhansu\", 30)\n"
      ],
      "metadata": {
        "id": "LyoDpP3yrc8c"
      },
      "execution_count": 6,
      "outputs": []
    },
    {
      "cell_type": "code",
      "source": [
        "# Call the introduce() method on the objects\n",
        "person1.introduce()  \n",
        "person2.introduce() "
      ],
      "metadata": {
        "colab": {
          "base_uri": "https://localhost:8080/"
        },
        "id": "Mb8T8v8SrcvC",
        "outputId": "a6937e5a-1c2a-4307-bc64-e9e838c464b2"
      },
      "execution_count": 7,
      "outputs": [
        {
          "output_type": "stream",
          "name": "stdout",
          "text": [
            "Hi, my name is Kuldeep and I am 20 years old.\n",
            "Hi, my name is Sudhansu and I am 30 years old.\n"
          ]
        }
      ]
    },
    {
      "cell_type": "code",
      "source": [],
      "metadata": {
        "id": "HMxN-ApPrcj6"
      },
      "execution_count": null,
      "outputs": []
    },
    {
      "cell_type": "markdown",
      "source": [
        "### Q4. Why self is used in OOPs?"
      ],
      "metadata": {
        "id": "lkNn7R5vr84C"
      }
    },
    {
      "cell_type": "markdown",
      "source": [
        "Ans -  In object-oriented programming (OOP) in Python, self is used as the first parameter in method definitions within a class. It is a convention (although not mandatory) to name this parameter self. The purpose of self is to refer to the instance of the class itself, allowing access to its attributes and methods."
      ],
      "metadata": {
        "id": "205wR2jnsHAa"
      }
    },
    {
      "cell_type": "code",
      "source": [
        "class Person:\n",
        "    def __init__(self, name, age):\n",
        "        self.name = name\n",
        "        self.age = age\n",
        "\n",
        "    def introduce(self):\n",
        "        print(f\"My name is {self.name} and I am {self.age} years old.\")\n"
      ],
      "metadata": {
        "id": "XYlO-TParcb0"
      },
      "execution_count": null,
      "outputs": []
    },
    {
      "cell_type": "code",
      "source": [
        "person = Person(\"kuldeep\", 20)\n",
        "person.introduce()"
      ],
      "metadata": {
        "colab": {
          "base_uri": "https://localhost:8080/"
        },
        "id": "SlrT0QWDsO9T",
        "outputId": "f914778d-a4cc-4278-b175-963314e17f8b"
      },
      "execution_count": 8,
      "outputs": [
        {
          "output_type": "stream",
          "name": "stdout",
          "text": [
            "Hi, my name is kuldeep and I am 20 years old.\n"
          ]
        }
      ]
    },
    {
      "cell_type": "code",
      "source": [],
      "metadata": {
        "id": "gH7OGUfKsO5H"
      },
      "execution_count": null,
      "outputs": []
    },
    {
      "cell_type": "markdown",
      "source": [
        "### Q5. What is inheritance? Give an example for each type of inheritance."
      ],
      "metadata": {
        "id": "UFsQcjoasrPI"
      }
    },
    {
      "cell_type": "markdown",
      "source": [
        "Ans -  Inheritance is a fundamental concept in object-oriented programming (OOP) that allows a class to inherit attributes and methods from another class. It establishes a relationship between classes where one class (derived class or subclass) inherits the properties of another class (base class or superclass). The derived class can extend or modify the inherited attributes and methods, as well as add new ones."
      ],
      "metadata": {
        "id": "scNF4YfGso4F"
      }
    },
    {
      "cell_type": "code",
      "source": [
        "#Single Inheritance\n",
        "class Animal:\n",
        "    def __init__(self, name):\n",
        "        self.name = name\n",
        "\n",
        "    def speak(self):\n",
        "        print(\"Animal speaks\")\n",
        "\n",
        "class Dog(Animal):\n",
        "    def speak(self):\n",
        "        print(\"Dog barks\")\n",
        "\n"
      ],
      "metadata": {
        "id": "dBz4ze-EsO1c"
      },
      "execution_count": 11,
      "outputs": []
    },
    {
      "cell_type": "code",
      "source": [
        "dog = Dog(\"Buddy\")\n",
        "dog.speak()"
      ],
      "metadata": {
        "colab": {
          "base_uri": "https://localhost:8080/"
        },
        "id": "a55inqjOsvZS",
        "outputId": "21255757-82c5-447f-ccba-040fedd9af8c"
      },
      "execution_count": 10,
      "outputs": [
        {
          "output_type": "stream",
          "name": "stdout",
          "text": [
            "Dog barks\n"
          ]
        }
      ]
    },
    {
      "cell_type": "code",
      "source": [
        "#Multiple Inheritance \n",
        "class Vehicle:\n",
        "    def __init__(self, brand):\n",
        "        self.brand = brand\n",
        "\n",
        "    def get_brand(self):\n",
        "        print(\"Brand:\", self.brand)\n",
        "\n",
        "class Engine:\n",
        "    def start_engine(self):\n",
        "        print(\"Engine started\")\n",
        "\n",
        "class Car(Vehicle, Engine):\n",
        "    def drive(self):\n",
        "        print(\"Car driving\")\n",
        "\n"
      ],
      "metadata": {
        "id": "un3TgqzTsvJf"
      },
      "execution_count": 12,
      "outputs": []
    },
    {
      "cell_type": "code",
      "source": [
        "car = Car(\"Toyota\")\n",
        "car.get_brand()     \n",
        "car.start_engine() \n",
        "car.drive()        "
      ],
      "metadata": {
        "colab": {
          "base_uri": "https://localhost:8080/"
        },
        "id": "vZygdesSsvGr",
        "outputId": "7af52d20-9869-4af5-8f02-888147d997fd"
      },
      "execution_count": 14,
      "outputs": [
        {
          "output_type": "stream",
          "name": "stdout",
          "text": [
            "Brand: Toyota\n",
            "Engine started\n",
            "Car driving\n"
          ]
        }
      ]
    },
    {
      "cell_type": "code",
      "source": [
        "#Multilevel Inheritance\n",
        "class Animal:\n",
        "    def __init__(self, name):\n",
        "        self.name = name\n",
        "\n",
        "    def speak(self):\n",
        "        print(\"Animal speaks\")\n",
        "\n",
        "class Dog(Animal):\n",
        "    def bark(self):\n",
        "        print(\"Dog barks\")\n",
        "\n",
        "class Bulldog(Dog):\n",
        "    def guard(self):\n",
        "        print(\"Bulldog guarding\")\n",
        "\n"
      ],
      "metadata": {
        "id": "PKGMfMJbtKnT"
      },
      "execution_count": 16,
      "outputs": []
    },
    {
      "cell_type": "code",
      "source": [
        "bulldog = Bulldog(\"Spike\")\n",
        "bulldog.speak()  \n",
        "bulldog.bark()   \n",
        "bulldog.guard() "
      ],
      "metadata": {
        "colab": {
          "base_uri": "https://localhost:8080/"
        },
        "id": "JTvELS1xtWTs",
        "outputId": "f8eefdf7-65b6-4c21-9614-97de68f3d064"
      },
      "execution_count": 17,
      "outputs": [
        {
          "output_type": "stream",
          "name": "stdout",
          "text": [
            "Animal speaks\n",
            "Dog barks\n",
            "Bulldog guarding\n"
          ]
        }
      ]
    },
    {
      "cell_type": "code",
      "source": [],
      "metadata": {
        "id": "OVJVNfxutXiV"
      },
      "execution_count": null,
      "outputs": []
    }
  ]
}