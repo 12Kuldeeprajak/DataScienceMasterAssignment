{
  "nbformat": 4,
  "nbformat_minor": 0,
  "metadata": {
    "colab": {
      "provenance": []
    },
    "kernelspec": {
      "name": "python3",
      "display_name": "Python 3"
    },
    "language_info": {
      "name": "python"
    }
  },
  "cells": [
    {
      "cell_type": "markdown",
      "source": [
        "#**Assignment** "
      ],
      "metadata": {
        "id": "CSiQHY7o9sSr"
      }
    },
    {
      "cell_type": "markdown",
      "source": [
        "## This is the assignment in week 04 of oops concept in pyhton"
      ],
      "metadata": {
        "id": "R1YHMalS9vtn"
      }
    },
    {
      "cell_type": "markdown",
      "source": [
        "# ---------------------------------------------------------------------------"
      ],
      "metadata": {
        "id": "SQNeKHcy91Jy"
      }
    },
    {
      "cell_type": "markdown",
      "source": [
        "### Q1. What is Abstraction in OOps? Explain with an example."
      ],
      "metadata": {
        "id": "F3fy-n-z97Zr"
      }
    },
    {
      "cell_type": "markdown",
      "source": [
        "Ans - Abstraction is a key concept in object-oriented programming (OOP) that allows us to hide complex implementation details and focus on essential features or behaviors of an object. It provides a simplified and generalized view of an object by defining its essential characteristics and hiding the unnecessary details."
      ],
      "metadata": {
        "id": "TdN1rhGq-ATw"
      }
    },
    {
      "cell_type": "code",
      "execution_count": 1,
      "metadata": {
        "colab": {
          "base_uri": "https://localhost:8080/"
        },
        "id": "AZi0oGi-9dJq",
        "outputId": "497cb903-184c-44ec-bf12-d00ec42c653b"
      },
      "outputs": [
        {
          "output_type": "stream",
          "name": "stdout",
          "text": [
            "Dog barks\n",
            "Cat meows\n"
          ]
        }
      ],
      "source": [
        "from abc import ABC, abstractmethod\n",
        "\n",
        "class Animal(ABC):\n",
        "    def __init__(self, name):\n",
        "        self.name = name\n",
        "\n",
        "    @abstractmethod\n",
        "    def speak(self):\n",
        "        pass\n",
        "\n",
        "class Dog(Animal):\n",
        "    def speak(self):\n",
        "        print(\"Dog barks\")\n",
        "\n",
        "class Cat(Animal):\n",
        "    def speak(self):\n",
        "        print(\"Cat meows\")\n",
        "\n",
        "dog = Dog(\"Buddy\")\n",
        "cat = Cat(\"Whiskers\")\n",
        "\n",
        "dog.speak()  \n",
        "cat.speak()  \n"
      ]
    },
    {
      "cell_type": "markdown",
      "source": [
        "### Q2. Differentiate between Abstraction and Encapsulation. Explain with an example."
      ],
      "metadata": {
        "id": "R2P1cNui_fdU"
      }
    },
    {
      "cell_type": "markdown",
      "source": [
        "Ans - Abstraction:\n",
        "\n",
        "Abstraction is the process of representing the essential features or behaviors of an object while hiding the unnecessary details.\n",
        "It allows us to focus on what an object does rather than how it does it.\n",
        "Abstraction is achieved through abstract classes and interfaces, defining a contract or blueprint for derived classes to follow.\n",
        "It helps in creating generalized and reusable code, promoting code modularity and maintainability.\n",
        "Abstraction is about providing a high-level view or interface to the users of a class or module."
      ],
      "metadata": {
        "id": "RsUI-NbU_qzo"
      }
    },
    {
      "cell_type": "code",
      "source": [
        "from abc import ABC, abstractmethod\n",
        "\n",
        "class Shape(ABC):\n",
        "    @abstractmethod\n",
        "    def area(self):\n",
        "        pass\n",
        "\n",
        "class Rectangle(Shape):\n",
        "    def __init__(self, length, width):\n",
        "        self.length = length\n",
        "        self.width = width\n",
        "\n",
        "    def area(self):\n",
        "        return self.length * self.width\n",
        "\n",
        "class Circle(Shape):\n",
        "    def __init__(self, radius):\n",
        "        self.radius = radius\n",
        "\n",
        "    def area(self):\n",
        "        return 3.14 * self.radius * self.radius\n",
        "\n",
        "rectangle = Rectangle(4, 5)\n",
        "circle = Circle(3)\n",
        "\n",
        "print(rectangle.area())  \n",
        "print(circle.area())     \n"
      ],
      "metadata": {
        "colab": {
          "base_uri": "https://localhost:8080/"
        },
        "id": "FgTiS7jPADj1",
        "outputId": "c9b15489-1efe-4127-bd69-d2f9e2405b51"
      },
      "execution_count": 3,
      "outputs": [
        {
          "output_type": "stream",
          "name": "stdout",
          "text": [
            "20\n",
            "28.259999999999998\n"
          ]
        }
      ]
    },
    {
      "cell_type": "markdown",
      "source": [
        "Ans - Encapsulation:\n",
        "\n",
        "Encapsulation is the process of bundling data (attributes) and methods (functions) that operate on that data together within a class.\n",
        "It involves hiding the internal state of an object and providing controlled access to the object's attributes through methods.\n",
        "Encapsulation helps in achieving data abstraction and data hiding, ensuring that the object's state is accessed and modified only through defined interfaces.\n",
        "It provides security, prevents direct access to internal data, and allows for better control and validation of data.\n",
        "Encapsulation is about packaging related data and methods together, forming a cohesive unit."
      ],
      "metadata": {
        "id": "H84zkyMmAEru"
      }
    },
    {
      "cell_type": "code",
      "source": [
        "class BankAccount:\n",
        "    def __init__(self, account_number, balance):\n",
        "        self.account_number = account_number\n",
        "        self.balance = balance\n",
        "\n",
        "    def deposit(self, amount):\n",
        "        self.balance += amount\n",
        "\n",
        "    def withdraw(self, amount):\n",
        "        if self.balance >= amount:\n",
        "            self.balance -= amount\n",
        "        else:\n",
        "            print(\"Insufficient balance\")\n",
        "\n",
        "    def get_balance(self):\n",
        "        return self.balance\n",
        "\n",
        "account = BankAccount(\"123456789\", 1000)\n",
        "account.deposit(500)\n",
        "account.withdraw(200)\n",
        "print(account.get_balance()) \n"
      ],
      "metadata": {
        "colab": {
          "base_uri": "https://localhost:8080/"
        },
        "id": "ngOdvPow_5iU",
        "outputId": "2ad3cc78-1de4-474a-e3e2-f035393fa0c2"
      },
      "execution_count": 4,
      "outputs": [
        {
          "output_type": "stream",
          "name": "stdout",
          "text": [
            "1300\n"
          ]
        }
      ]
    },
    {
      "cell_type": "markdown",
      "source": [
        "### Q3. What is abc module in python? Why is it used?"
      ],
      "metadata": {
        "id": "UqHJMxYVAikw"
      }
    },
    {
      "cell_type": "markdown",
      "source": [
        "Ans -  The abc module in Python stands for \"Abstract Base Classes.\" It provides a mechanism for defining abstract base classes in Python. Abstract base classes are classes that cannot be instantiated and serve as blueprints for other classes to inherit from. They define a common interface and provide a way to enforce certain methods or properties that derived classes must implement."
      ],
      "metadata": {
        "id": "IpTKN1x4_vzE"
      }
    },
    {
      "cell_type": "code",
      "source": [
        "from abc import ABC, abstractmethod\n",
        "\n",
        "class Shape(ABC):\n",
        "    @abstractmethod\n",
        "    def area(self):\n",
        "        pass\n",
        "\n",
        "class Rectangle(Shape):\n",
        "    def __init__(self, length, width):\n",
        "        self.length = length\n",
        "        self.width = width\n",
        "\n",
        "    def area(self):\n",
        "        return self.length * self.width\n",
        "\n",
        "class Circle(Shape):\n",
        "    def __init__(self, radius):\n",
        "        self.radius = radius\n",
        "\n",
        "    def area(self):\n",
        "        return 3.14 * self.radius * self.radius\n",
        "\n",
        "rectangle = Rectangle(4, 5)\n",
        "circle = Circle(3)\n",
        "\n",
        "print(rectangle.area())  \n",
        "print(circle.area())    \n"
      ],
      "metadata": {
        "colab": {
          "base_uri": "https://localhost:8080/"
        },
        "id": "QQb9NhuLApnB",
        "outputId": "2f79ae1f-3bb8-4162-9f2d-f326d51591db"
      },
      "execution_count": 5,
      "outputs": [
        {
          "output_type": "stream",
          "name": "stdout",
          "text": [
            "20\n",
            "28.259999999999998\n"
          ]
        }
      ]
    },
    {
      "cell_type": "markdown",
      "source": [
        "### Q4. How can we achieve data abstraction?"
      ],
      "metadata": {
        "id": "dW_9Mu9BA_jX"
      }
    },
    {
      "cell_type": "markdown",
      "source": [
        "Ans - Data abstraction in object-oriented programming refers to the concept of hiding the internal implementation details of data and providing a simplified and generalized view of the data. It allows users to interact with the data through well-defined interfaces without being aware of the underlying implementation.\n",
        "\n",
        "In Python, we can achieve data abstraction using classes, specifically by defining class attributes and providing methods to manipulate and access those attributes. Here are some techniques to achieve data abstraction"
      ],
      "metadata": {
        "id": "Z51XF9HRA9gu"
      }
    },
    {
      "cell_type": "markdown",
      "source": [
        "### Q5. Can we create an instance of an abstract class? Explain your answer."
      ],
      "metadata": {
        "id": "qcNOAeLuBWaN"
      }
    },
    {
      "cell_type": "markdown",
      "source": [
        "Ans - No, we cannot create an instance of an abstract class in Python. Abstract classes are classes that are meant to be inherited from and serve as blueprints for other classes. They are designed to provide a common interface and define abstract methods that derived classes must implement."
      ],
      "metadata": {
        "id": "MuMxC-5xBYdN"
      }
    },
    {
      "cell_type": "code",
      "source": [
        "from abc import ABC, abstractmethod\n",
        "\n",
        "class AbstractClass(ABC):\n",
        "    @abstractmethod\n",
        "    def abstract_method(self):\n",
        "        pass\n",
        "\n",
        "# Attempt to create an instance of an abstract class\n",
        "obj = AbstractClass()  # Raises TypeError: Can't instantiate abstract class AbstractClass with abstract methods abstract_method\n"
      ],
      "metadata": {
        "id": "LgLVBlZzB0jD"
      },
      "execution_count": null,
      "outputs": []
    }
  ]
}