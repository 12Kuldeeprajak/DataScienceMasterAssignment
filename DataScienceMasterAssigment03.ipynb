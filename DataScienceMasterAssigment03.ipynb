{
  "nbformat": 4,
  "nbformat_minor": 0,
  "metadata": {
    "colab": {
      "provenance": []
    },
    "kernelspec": {
      "name": "python3",
      "display_name": "Python 3"
    },
    "language_info": {
      "name": "python"
    }
  },
  "cells": [
    {
      "cell_type": "markdown",
      "source": [
        " Q1. Which keyword is used to create a function? Create a function to return a list of odd numbers in the range of 1 to 25.\n",
        " \n",
        "Ans- \n",
        "Def keyword is used to create a function .\n",
        "\n"
      ],
      "metadata": {
        "id": "kFgz0TQ8dMTp"
      }
    },
    {
      "cell_type": "code",
      "source": [
        "l = [1,2,3,4,5,6,7,8,9]"
      ],
      "metadata": {
        "id": "BSn228M4en6L"
      },
      "execution_count": 2,
      "outputs": []
    },
    {
      "cell_type": "code",
      "execution_count": 3,
      "metadata": {
        "id": "uzOF6YT4dK4t"
      },
      "outputs": [],
      "source": [
        "# Create a function to return a list of odd numbers in the range of 1 to 25 .\n",
        "\n",
        "def odd_num ( num ):\n",
        "  if num % 2 == 1:\n",
        "    return 'odd'\n",
        "  else:\n",
        "    return'even'"
      ]
    },
    {
      "cell_type": "code",
      "source": [
        "for i in range (1,25):\n",
        "  x = odd_num(i)\n",
        "  print(x)"
      ],
      "metadata": {
        "colab": {
          "base_uri": "https://localhost:8080/"
        },
        "id": "mmW_UZ1ledJm",
        "outputId": "2327bc09-ca94-43d1-90c2-baa03b78eb79"
      },
      "execution_count": 8,
      "outputs": [
        {
          "output_type": "stream",
          "name": "stdout",
          "text": [
            "odd\n",
            "even\n",
            "odd\n",
            "even\n",
            "odd\n",
            "even\n",
            "odd\n",
            "even\n",
            "odd\n",
            "even\n",
            "odd\n",
            "even\n",
            "odd\n",
            "even\n",
            "odd\n",
            "even\n",
            "odd\n",
            "even\n",
            "odd\n",
            "even\n",
            "odd\n",
            "even\n",
            "odd\n",
            "even\n"
          ]
        }
      ]
    },
    {
      "cell_type": "markdown",
      "source": [
        "Q2. Why *args and **kwargs is used in some functions? Create a function each for *args and **kwargs\n",
        "to demonstrate their use."
      ],
      "metadata": {
        "id": "PPLsD0ziB_Lf"
      }
    },
    {
      "cell_type": "markdown",
      "source": [
        " Ans - *args and **kwargs are special Python keywords that are used to pass the variable length of arguments to a function\n",
        "\n"
      ],
      "metadata": {
        "id": "cwLIS3LGCeb9"
      }
    },
    {
      "cell_type": "code",
      "source": [
        "# *args\n",
        "# allows us to pass a variable number of non-keyword arguments to a function.\n",
        "\n",
        "def multiply(*args):\n",
        "  product = 1\n",
        "\n",
        "  for i in kwargs:\n",
        "    product = product * i\n",
        "\n",
        "  print(kwargs)\n",
        "  return product"
      ],
      "metadata": {
        "id": "1nvRsBjmfHy3"
      },
      "execution_count": 9,
      "outputs": []
    },
    {
      "cell_type": "code",
      "source": [
        "multiply(1,2,3,4,5,6,7,8,9,10,12)"
      ],
      "metadata": {
        "id": "ixSVr-hXHEl_"
      },
      "execution_count": null,
      "outputs": []
    },
    {
      "cell_type": "code",
      "source": [
        "# **kwargs\n",
        "# **kwargs allows us to pass any number of keyword arguments.\n",
        "# Keyword arguments mean that they contain a key-value pair, like a Python dictionary.\n",
        "\n",
        "def display(**salman):\n",
        "\n",
        "  for (key,value) in salman.items():\n",
        "    print(key,'->',value)"
      ],
      "metadata": {
        "id": "7GgmVCnBHEjN"
      },
      "execution_count": 11,
      "outputs": []
    },
    {
      "cell_type": "code",
      "source": [
        "display(india='delhi',srilanka='colombo',nepal='kathmandu',pakistan='islamabad')"
      ],
      "metadata": {
        "colab": {
          "base_uri": "https://localhost:8080/"
        },
        "id": "uoTICoOcHKMN",
        "outputId": "0e076641-2f36-44c8-da7d-caf315c90559"
      },
      "execution_count": 12,
      "outputs": [
        {
          "output_type": "stream",
          "name": "stdout",
          "text": [
            "india -> delhi\n",
            "srilanka -> colombo\n",
            "nepal -> kathmandu\n",
            "pakistan -> islamabad\n"
          ]
        }
      ]
    },
    {
      "cell_type": "markdown",
      "source": [
        "Q3. What is an iterator in python? Name the method used to initialise the iterator object and the method\n",
        "used for iteration. Use these methods to print the first five elements of the given list [2, 4, 6, 8, 10, 12, 14,\n",
        "16, 18, 20]."
      ],
      "metadata": {
        "id": "vrly_Vn8Hk0f"
      }
    },
    {
      "cell_type": "markdown",
      "source": [
        "Ans - \n",
        "In Python, an iterator is an object that enables iteration over a container or a sequence of elements. It provides a way to access the elements of a collection one at a time without having to know the underlying structure of the collection."
      ],
      "metadata": {
        "id": "-UVofqx5Hh9m"
      }
    },
    {
      "cell_type": "code",
      "source": [
        "my_list = [2, 4, 6, 8, 10, 12, 14, 16, 18, 20]\n",
        "my_iterator = iter(my_list)\n",
        "\n",
        "for _ in range(5):\n",
        "    element = next(my_iterator)\n",
        "    print(element)\n"
      ],
      "metadata": {
        "colab": {
          "base_uri": "https://localhost:8080/"
        },
        "id": "iG2QkkSNHg05",
        "outputId": "04fcb51d-9043-4c7b-ab5e-f5b46253f272"
      },
      "execution_count": 13,
      "outputs": [
        {
          "output_type": "stream",
          "name": "stdout",
          "text": [
            "2\n",
            "4\n",
            "6\n",
            "8\n",
            "10\n"
          ]
        }
      ]
    },
    {
      "cell_type": "markdown",
      "source": [
        "Q4. What is a generator function in python? Why yield keyword is used? Give an example of a generator\n",
        "function."
      ],
      "metadata": {
        "id": "gEzwQxeMIAXY"
      }
    },
    {
      "cell_type": "markdown",
      "source": [
        "Ans - In Python, a generator function is a special type of function that generates a sequence of values using the yield keyword instead of return. When a generator function is called, it returns an iterator that can be iterated over to retrieve the generated values one at a time. Unlike regular functions, which return a value and then terminate, generator functions can yield multiple values across multiple invocations, maintaining their internal state between each yield."
      ],
      "metadata": {
        "id": "cgJgL7PhH3qX"
      }
    },
    {
      "cell_type": "code",
      "source": [
        "def even_numbers():\n",
        "    num = 0\n",
        "    while True:\n",
        "        yield num\n",
        "        num += 2\n",
        "\n",
        "# Create a generator object\n",
        "even_gen = even_numbers()\n",
        "\n",
        "# Retrieve and print the first five even numbers\n",
        "for _ in range(5):\n",
        "    print(next(even_gen))\n"
      ],
      "metadata": {
        "colab": {
          "base_uri": "https://localhost:8080/"
        },
        "id": "L_8XMPwsH6Ti",
        "outputId": "f6fe8acb-0734-4691-acfb-7746a0d9939f"
      },
      "execution_count": 14,
      "outputs": [
        {
          "output_type": "stream",
          "name": "stdout",
          "text": [
            "0\n",
            "2\n",
            "4\n",
            "6\n",
            "8\n"
          ]
        }
      ]
    },
    {
      "cell_type": "markdown",
      "source": [
        "Q5. Create a generator function for prime numbers less than 1000. Use the next() method to print the\n",
        "first 20 prime numbers."
      ],
      "metadata": {
        "id": "gAU7SqqGIVMN"
      }
    },
    {
      "cell_type": "code",
      "source": [
        "def prime_generator():\n",
        "    primes = []\n",
        "    num = 2\n",
        "\n",
        "    while True:\n",
        "        is_prime = True\n",
        "\n",
        "        for prime in primes:\n",
        "            if prime * prime > num:\n",
        "                break\n",
        "            if num % prime == 0:\n",
        "                is_prime = False\n",
        "                break\n",
        "\n",
        "        if is_prime:\n",
        "            primes.append(num)\n",
        "            yield num\n",
        "\n",
        "        num += 1\n",
        "\n",
        "# Create a generator object\n",
        "prime_gen = prime_generator()\n",
        "\n",
        "# Print the first 20 prime numbers\n",
        "for _ in range(20):\n",
        "    print(next(prime_gen))\n"
      ],
      "metadata": {
        "colab": {
          "base_uri": "https://localhost:8080/"
        },
        "id": "HwPVRb-nIS6v",
        "outputId": "ac198e2f-4cf1-49df-ca2e-70692b043c9e"
      },
      "execution_count": 15,
      "outputs": [
        {
          "output_type": "stream",
          "name": "stdout",
          "text": [
            "2\n",
            "3\n",
            "5\n",
            "7\n",
            "11\n",
            "13\n",
            "17\n",
            "19\n",
            "23\n",
            "29\n",
            "31\n",
            "37\n",
            "41\n",
            "43\n",
            "47\n",
            "53\n",
            "59\n",
            "61\n",
            "67\n",
            "71\n"
          ]
        }
      ]
    },
    {
      "cell_type": "markdown",
      "source": [
        "Q6. Write a python program to print the first 10 Fibonacci numbers using a while loop."
      ],
      "metadata": {
        "id": "GuhwkN2aIkKW"
      }
    },
    {
      "cell_type": "code",
      "source": [
        "def fibonacci_sequence(n):\n",
        "    fib_sequence = []\n",
        "    a, b = 0, 1\n",
        "\n",
        "    while len(fib_sequence) < n:\n",
        "        fib_sequence.append(a)\n",
        "        a, b = b, a + b\n",
        "\n",
        "    return fib_sequence\n",
        "\n",
        "# Print the first 10 Fibonacci numbers\n",
        "fibonacci_numbers = fibonacci_sequence(10)\n",
        "for num in fibonacci_numbers:\n",
        "    print(num)\n"
      ],
      "metadata": {
        "id": "DAWMR4cnIfp-"
      },
      "execution_count": null,
      "outputs": []
    },
    {
      "cell_type": "markdown",
      "source": [
        "Q7. Write a List Comprehension to iterate through the given string: ‘pwskills’.\n",
        "Expected output: ['p', 'w', 's', 'k', 'i', 'l', 'l', 's']"
      ],
      "metadata": {
        "id": "kkp355pTIfPs"
      }
    },
    {
      "cell_type": "code",
      "source": [
        "string = 'pwskills'\n",
        "result = [char for char in string]\n",
        "print(result)\n"
      ],
      "metadata": {
        "colab": {
          "base_uri": "https://localhost:8080/"
        },
        "id": "yVuIslxDIynf",
        "outputId": "d4082dea-28be-4f17-a559-a520a278e60c"
      },
      "execution_count": 16,
      "outputs": [
        {
          "output_type": "stream",
          "name": "stdout",
          "text": [
            "['p', 'w', 's', 'k', 'i', 'l', 'l', 's']\n"
          ]
        }
      ]
    },
    {
      "cell_type": "markdown",
      "source": [
        "Q8. Write a python program to check whether a given number is Palindrome or not using a while loop."
      ],
      "metadata": {
        "id": "b_pJ-o9bI_iO"
      }
    },
    {
      "cell_type": "code",
      "source": [
        "def is_palindrome(number):\n",
        "    original_number = number\n",
        "    reversed_number = 0\n",
        "\n",
        "    while number > 0:\n",
        "        digit = number % 10\n",
        "        reversed_number = (reversed_number * 10) + digit\n",
        "        number //= 10\n",
        "\n",
        "    if original_number == reversed_number:\n",
        "        return True\n",
        "    else:\n",
        "        return False\n",
        "\n",
        "# Test the program\n",
        "num = int(input(\"Enter a number: \"))\n",
        "\n",
        "if is_palindrome(num):\n",
        "    print(f\"{num} is a palindrome.\")\n",
        "else:\n",
        "    print(f\"{num} is not a palindrome.\")\n"
      ],
      "metadata": {
        "id": "r0lIEVMZI9LY"
      },
      "execution_count": null,
      "outputs": []
    },
    {
      "cell_type": "markdown",
      "source": [
        "Q9. Write a code to print odd numbers from 1 to 100 using list comprehension.\n",
        "Note: Use a list comprehension to create a list from 1 to 100 and use another List comprehension to filter\n",
        "out odd numbers."
      ],
      "metadata": {
        "id": "i3nQNwSdJEYP"
      }
    },
    {
      "cell_type": "code",
      "source": [
        "odd_numbers = [num for num in range(1, 101) if num % 2 != 0]\n",
        "print(odd_numbers)\n"
      ],
      "metadata": {
        "colab": {
          "base_uri": "https://localhost:8080/"
        },
        "id": "D8L5j4CtJHLd",
        "outputId": "4af12b7d-d09f-4ad3-b458-d6eebea72770"
      },
      "execution_count": 17,
      "outputs": [
        {
          "output_type": "stream",
          "name": "stdout",
          "text": [
            "[1, 3, 5, 7, 9, 11, 13, 15, 17, 19, 21, 23, 25, 27, 29, 31, 33, 35, 37, 39, 41, 43, 45, 47, 49, 51, 53, 55, 57, 59, 61, 63, 65, 67, 69, 71, 73, 75, 77, 79, 81, 83, 85, 87, 89, 91, 93, 95, 97, 99]\n"
          ]
        }
      ]
    }
  ]
}