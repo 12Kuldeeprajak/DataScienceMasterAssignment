{
  "nbformat": 4,
  "nbformat_minor": 0,
  "metadata": {
    "colab": {
      "provenance": []
    },
    "kernelspec": {
      "name": "python3",
      "display_name": "Python 3"
    },
    "language_info": {
      "name": "python"
    }
  },
  "cells": [
    {
      "cell_type": "markdown",
      "source": [
        "#**Assignment** "
      ],
      "metadata": {
        "id": "cZpGKDef67of"
      }
    },
    {
      "cell_type": "markdown",
      "source": [
        "## This is the assignment in week 04 of oops concept in pyhton"
      ],
      "metadata": {
        "id": "xu4O5djR7Amn"
      }
    },
    {
      "cell_type": "markdown",
      "source": [
        "### Q1, Create a vehicle class with an init method having instance variables as name_of_vehicle, max_speed and average_of_vehicle."
      ],
      "metadata": {
        "id": "hmOiH5wG7l_u"
      }
    },
    {
      "cell_type": "code",
      "execution_count": 7,
      "metadata": {
        "id": "gHeOVlUE6n2c"
      },
      "outputs": [],
      "source": [
        "class vehicle:\n",
        "  def __init__(self,name_of_veicle,max_speed,average_of_vehicle):\n",
        "    self.name_of_veicle = name_of_veicle\n",
        "    self.max_speed = max_speed\n",
        "    self.average_of_vehicle = average_of_vehicle\n",
        "    "
      ]
    },
    {
      "cell_type": "code",
      "source": [
        "obj = vehicle('car',120,100)"
      ],
      "metadata": {
        "id": "YZfV1Ap183Mk"
      },
      "execution_count": 8,
      "outputs": []
    },
    {
      "cell_type": "code",
      "source": [
        "obj.average_of_vehicle"
      ],
      "metadata": {
        "colab": {
          "base_uri": "https://localhost:8080/"
        },
        "id": "5WKEefCT9C-c",
        "outputId": "207448cb-ff1a-46b1-a871-b87f29398817"
      },
      "execution_count": 9,
      "outputs": [
        {
          "output_type": "execute_result",
          "data": {
            "text/plain": [
              "100"
            ]
          },
          "metadata": {},
          "execution_count": 9
        }
      ]
    },
    {
      "cell_type": "code",
      "source": [
        "obj.name_of_veicle"
      ],
      "metadata": {
        "colab": {
          "base_uri": "https://localhost:8080/",
          "height": 35
        },
        "id": "fo8vGuby9S9b",
        "outputId": "08446646-155c-4030-f000-51b7e21a7be0"
      },
      "execution_count": 10,
      "outputs": [
        {
          "output_type": "execute_result",
          "data": {
            "text/plain": [
              "'car'"
            ],
            "application/vnd.google.colaboratory.intrinsic+json": {
              "type": "string"
            }
          },
          "metadata": {},
          "execution_count": 10
        }
      ]
    },
    {
      "cell_type": "code",
      "source": [
        "obj.max_speed"
      ],
      "metadata": {
        "id": "qmGJRqeg9c2j",
        "colab": {
          "base_uri": "https://localhost:8080/"
        },
        "outputId": "a4ff3f18-d14c-454d-ead5-87e95eeee6c7"
      },
      "execution_count": 11,
      "outputs": [
        {
          "output_type": "execute_result",
          "data": {
            "text/plain": [
              "120"
            ]
          },
          "metadata": {},
          "execution_count": 11
        }
      ]
    },
    {
      "cell_type": "markdown",
      "source": [
        "### Q2. Create a child class car from the vehicle class created in Que 1, which will inherit the vehicle class. Create a method named seating_capacity which takes capacity as an argument and returns the name of the vehicle and its seating capacity\n",
        "\n"
      ],
      "metadata": {
        "id": "WZ_wKiFO9j1S"
      }
    },
    {
      "cell_type": "code",
      "source": [
        "class car(vehicle):\n",
        "  def __init__(self,capacity):\n",
        "    self.capacity = capacity\n",
        "  def seating_capacity(self):\n",
        "    return self.capacity , obj.name_of_veicle"
      ],
      "metadata": {
        "id": "83Xlizum93qm"
      },
      "execution_count": 29,
      "outputs": []
    },
    {
      "cell_type": "code",
      "source": [
        "obj1 = car(7)"
      ],
      "metadata": {
        "id": "NRn7a1Pd93nw"
      },
      "execution_count": 30,
      "outputs": []
    },
    {
      "cell_type": "code",
      "source": [
        "obj1.seating_capacity()"
      ],
      "metadata": {
        "id": "rJCxpvHO93Z8",
        "colab": {
          "base_uri": "https://localhost:8080/"
        },
        "outputId": "2c981be0-eb6b-4458-c343-96938c2a60d9"
      },
      "execution_count": 31,
      "outputs": [
        {
          "output_type": "execute_result",
          "data": {
            "text/plain": [
              "(7, 'car')"
            ]
          },
          "metadata": {},
          "execution_count": 31
        }
      ]
    },
    {
      "cell_type": "markdown",
      "source": [
        "### Q3. What is multiple inheritance? Write a python code to demonstrate multiple inheritance."
      ],
      "metadata": {
        "id": "svufYDWLBg_a"
      }
    },
    {
      "cell_type": "markdown",
      "source": [
        "#### Ans-Multiple inheritance \n",
        "#### when a single class inherit two or more classes this is called multiple inheritance"
      ],
      "metadata": {
        "id": "W90lWnIcBjMO"
      }
    },
    {
      "cell_type": "code",
      "source": [
        "class class1:\n",
        "  def first_class(self):\n",
        "    return 'This is first class'"
      ],
      "metadata": {
        "id": "PgJoKvoT93XF"
      },
      "execution_count": 34,
      "outputs": []
    },
    {
      "cell_type": "code",
      "source": [
        "class class2:\n",
        "  def second_class(self):\n",
        "    return 'This is second class'"
      ],
      "metadata": {
        "id": "XLG1Q_XL93IR"
      },
      "execution_count": 35,
      "outputs": []
    },
    {
      "cell_type": "code",
      "source": [
        "class class3(class2 , class1):\n",
        "  pass"
      ],
      "metadata": {
        "id": "_wpMZgW393FY"
      },
      "execution_count": 36,
      "outputs": []
    },
    {
      "cell_type": "code",
      "source": [
        "obj3 = class3()"
      ],
      "metadata": {
        "id": "Rc3jAmgG91b2"
      },
      "execution_count": 37,
      "outputs": []
    },
    {
      "cell_type": "code",
      "source": [
        "obj3.first_class()"
      ],
      "metadata": {
        "id": "JO0ghqd691QI",
        "colab": {
          "base_uri": "https://localhost:8080/",
          "height": 35
        },
        "outputId": "204b4535-a724-42d7-acd8-2ea580f4e490"
      },
      "execution_count": 38,
      "outputs": [
        {
          "output_type": "execute_result",
          "data": {
            "text/plain": [
              "'This is first class'"
            ],
            "application/vnd.google.colaboratory.intrinsic+json": {
              "type": "string"
            }
          },
          "metadata": {},
          "execution_count": 38
        }
      ]
    },
    {
      "cell_type": "code",
      "source": [
        "obj3.second_class()"
      ],
      "metadata": {
        "id": "uFY6zit691Gh",
        "colab": {
          "base_uri": "https://localhost:8080/",
          "height": 35
        },
        "outputId": "5ec26e02-741e-4316-b829-5fdcfe32cbfe"
      },
      "execution_count": 39,
      "outputs": [
        {
          "output_type": "execute_result",
          "data": {
            "text/plain": [
              "'This is second class'"
            ],
            "application/vnd.google.colaboratory.intrinsic+json": {
              "type": "string"
            }
          },
          "metadata": {},
          "execution_count": 39
        }
      ]
    },
    {
      "cell_type": "markdown",
      "source": [
        "### Q4. What are getter and setter in python? Create a class and create a getter and a setter method in this class."
      ],
      "metadata": {
        "id": "EF8nV3oVFr8e"
      }
    },
    {
      "cell_type": "markdown",
      "source": [
        "#### Ans -- In Python, getters and setters are methods used to control access to an object's attributes. They provide a way to get and set the values of private attributes and enable encapsulation, which helps maintain data integrity and control over attribute modifications."
      ],
      "metadata": {
        "id": "mqstfgdyJY3h"
      }
    },
    {
      "cell_type": "code",
      "source": [
        "class car1:\n",
        "  def __init__(self,cost):\n",
        "    self.__cost = cost\n",
        "     \n",
        "\n",
        "  def setter(self,new_cost):\n",
        "    if new_cost >= 400000:\n",
        "      self.__cost = new_cost\n",
        "      return True\n",
        "    else:\n",
        "      False\n",
        "\n",
        "  def getter(self):\n",
        "    return self.__cost"
      ],
      "metadata": {
        "id": "UPwECWQn902C"
      },
      "execution_count": 55,
      "outputs": []
    },
    {
      "cell_type": "code",
      "source": [
        "obj4 = car1(500000)"
      ],
      "metadata": {
        "id": "LJtL_T-490zQ"
      },
      "execution_count": 56,
      "outputs": []
    },
    {
      "cell_type": "code",
      "source": [
        "obj4.setter(600000)"
      ],
      "metadata": {
        "id": "CGHmzty390w6",
        "colab": {
          "base_uri": "https://localhost:8080/"
        },
        "outputId": "d6afdd91-86a5-4788-a674-69028df84c4f"
      },
      "execution_count": 57,
      "outputs": [
        {
          "output_type": "execute_result",
          "data": {
            "text/plain": [
              "True"
            ]
          },
          "metadata": {},
          "execution_count": 57
        }
      ]
    },
    {
      "cell_type": "code",
      "source": [
        "obj4.getter()"
      ],
      "metadata": {
        "id": "b7KDnGqW90jG",
        "colab": {
          "base_uri": "https://localhost:8080/"
        },
        "outputId": "0f9f9f3b-8013-48f8-9873-7f2b19b52471"
      },
      "execution_count": 58,
      "outputs": [
        {
          "output_type": "execute_result",
          "data": {
            "text/plain": [
              "600000"
            ]
          },
          "metadata": {},
          "execution_count": 58
        }
      ]
    },
    {
      "cell_type": "markdown",
      "source": [
        "### Q5.What is method overriding in python? Write a python code to demonstrate method overriding."
      ],
      "metadata": {
        "id": "pTLq-LviJpeA"
      }
    },
    {
      "cell_type": "markdown",
      "source": [
        "#### Method overriding is a concept in object-oriented programming where a derived class provides its own implementation for a method that is already defined in its parent class. The overridden method in the derived class has the same name and signature as the method in the parent class but provides a different implementation. When an object of the derived class calls the overridden method, the implementation in the derived class is executed instead of the parent class's implementation."
      ],
      "metadata": {
        "id": "67ouXzpuKGG6"
      }
    },
    {
      "cell_type": "code",
      "source": [
        "class Cat(Animal):\n",
        "    def sound(self):\n",
        "        print(\"Meow\")\n"
      ],
      "metadata": {
        "id": "_iBUklEjJo15"
      },
      "execution_count": 65,
      "outputs": []
    },
    {
      "cell_type": "code",
      "source": [
        "class Dog(Animal):\n",
        "    def sound(self):\n",
        "        print(\"Woof\")"
      ],
      "metadata": {
        "id": "zGTcoag7JoWb"
      },
      "execution_count": 66,
      "outputs": []
    },
    {
      "cell_type": "code",
      "source": [
        "animal = Animal()\n",
        "animal.sound()"
      ],
      "metadata": {
        "colab": {
          "base_uri": "https://localhost:8080/"
        },
        "id": "Xxo0drcWJoTk",
        "outputId": "75093453-7a07-4869-d477-43b7fffd7aed"
      },
      "execution_count": 67,
      "outputs": [
        {
          "output_type": "stream",
          "name": "stdout",
          "text": [
            "Animal makes a sound\n"
          ]
        }
      ]
    },
    {
      "cell_type": "code",
      "source": [
        "cat = Cat()\n",
        "cat.sound()"
      ],
      "metadata": {
        "colab": {
          "base_uri": "https://localhost:8080/"
        },
        "id": "iGYuna0TKduR",
        "outputId": "241ae3b1-72c4-4bf7-aa99-731904486580"
      },
      "execution_count": 68,
      "outputs": [
        {
          "output_type": "stream",
          "name": "stdout",
          "text": [
            "Meow\n"
          ]
        }
      ]
    },
    {
      "cell_type": "code",
      "source": [
        "dog = Dog()\n",
        "dog.sound()"
      ],
      "metadata": {
        "colab": {
          "base_uri": "https://localhost:8080/"
        },
        "id": "zO76CWUjKg3R",
        "outputId": "2275296d-bf1a-4bb9-c5a1-ac8110667fe7"
      },
      "execution_count": 69,
      "outputs": [
        {
          "output_type": "stream",
          "name": "stdout",
          "text": [
            "Woof\n"
          ]
        }
      ]
    },
    {
      "cell_type": "code",
      "source": [],
      "metadata": {
        "id": "1Y7GxB1mKpzl"
      },
      "execution_count": null,
      "outputs": []
    }
  ]
}