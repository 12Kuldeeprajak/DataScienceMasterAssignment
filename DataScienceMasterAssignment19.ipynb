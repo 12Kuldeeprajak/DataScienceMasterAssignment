{
  "nbformat": 4,
  "nbformat_minor": 0,
  "metadata": {
    "colab": {
      "provenance": []
    },
    "kernelspec": {
      "name": "python3",
      "display_name": "Python 3"
    },
    "language_info": {
      "name": "python"
    }
  },
  "cells": [
    {
      "cell_type": "markdown",
      "source": [
        "## Q1. Create a Pandas Series that contains the following data: 4, 8, 15, 16, 23, and 42. Then, print the series."
      ],
      "metadata": {
        "id": "oedw8s5veShD"
      }
    },
    {
      "cell_type": "code",
      "execution_count": 2,
      "metadata": {
        "colab": {
          "base_uri": "https://localhost:8080/"
        },
        "id": "UDEeQRgMeFuG",
        "outputId": "ac816f35-eea2-48f6-9d6d-cdd72d27132b"
      },
      "outputs": [
        {
          "output_type": "stream",
          "name": "stdout",
          "text": [
            "0     4\n",
            "1     8\n",
            "2    15\n",
            "3    16\n",
            "4    23\n",
            "5    42\n",
            "dtype: int64\n"
          ]
        }
      ],
      "source": [
        "import pandas as pd\n",
        "data = [4, 8, 15, 16, 23,  42]\n",
        "series = pd.Series(data)\n",
        "print(series)"
      ]
    },
    {
      "cell_type": "markdown",
      "source": [
        "## Q2. Create a variable of list type containing 10 elements in it, and apply pandas.Series function on the variable print it."
      ],
      "metadata": {
        "id": "RR0D6JtofLS0"
      }
    },
    {
      "cell_type": "code",
      "source": [
        "import pandas as pd\n",
        "\n",
        "my_list = [1, 2, 3, 4, 5, 6, 7, 8, 9, 10]\n",
        "series = pd.Series(my_list)\n",
        "print(series)\n"
      ],
      "metadata": {
        "colab": {
          "base_uri": "https://localhost:8080/"
        },
        "id": "EfjsIwHWelou",
        "outputId": "ea762b87-5da5-4fe0-b36f-8461bc90bbed"
      },
      "execution_count": 3,
      "outputs": [
        {
          "output_type": "stream",
          "name": "stdout",
          "text": [
            "0     1\n",
            "1     2\n",
            "2     3\n",
            "3     4\n",
            "4     5\n",
            "5     6\n",
            "6     7\n",
            "7     8\n",
            "8     9\n",
            "9    10\n",
            "dtype: int64\n"
          ]
        }
      ]
    },
    {
      "cell_type": "markdown",
      "source": [
        "## Q3. Create a Pandas DataFrame that contains the following data:"
      ],
      "metadata": {
        "id": "_ZsQiPE6geyR"
      }
    },
    {
      "cell_type": "code",
      "source": [
        "import pandas as pd\n",
        "data1 = {\n",
        "    'Name': ['Alice' ,'Bob', 'Claire'],\n",
        "    'Age': [25 , 30 , 27 ],\n",
        "    'Gender': ['Female', 'Male', 'Female']\n",
        "}\n",
        "\n",
        "df = pd.DataFrame(data1)\n",
        "print(df)"
      ],
      "metadata": {
        "colab": {
          "base_uri": "https://localhost:8080/"
        },
        "id": "etZYcm4egY5w",
        "outputId": "fdcdee73-a960-47ce-b1ec-7ca3ade41c55"
      },
      "execution_count": 4,
      "outputs": [
        {
          "output_type": "stream",
          "name": "stdout",
          "text": [
            "     Name  Age  Gender\n",
            "0   Alice   25  Female\n",
            "1     Bob   30    Male\n",
            "2  Claire   27  Female\n"
          ]
        }
      ]
    },
    {
      "cell_type": "markdown",
      "source": [
        "## Q4. What is ‘DataFrame’ in pandas and how is it different from pandas.series? Explain with an example."
      ],
      "metadata": {
        "id": "XnR_sB_oifpi"
      }
    },
    {
      "cell_type": "markdown",
      "source": [
        "### In pandas, a DataFrame is a two-dimensional labeled data structure that can store data of different types (e.g., numbers, strings, booleans) in columns. It is similar to a table or spreadsheet, where each column represents a variable, and each row represents an observation.\n",
        "\n",
        "### A DataFrame is composed of one or more Series objects, where each Series represents a single column within the DataFrame. In other words, a DataFrame is a collection of Series that share a common index."
      ],
      "metadata": {
        "id": "qvlaTC85i_e6"
      }
    },
    {
      "cell_type": "code",
      "source": [],
      "metadata": {
        "id": "U68Tf3vJiVIG"
      },
      "execution_count": null,
      "outputs": []
    },
    {
      "cell_type": "markdown",
      "source": [
        "##Q5. What are some common functions you can use to manipulate data in a Pandas DataFrame? Can you give an example of when you might use one of these functions?"
      ],
      "metadata": {
        "id": "MS0JFw48js1F"
      }
    },
    {
      "cell_type": "markdown",
      "source": [
        "Pandas provides a wide range of functions to manipulate data in a DataFrame. Here are some common functions you can use:\n",
        "\n",
        "1. `head()` and `tail()`: These functions allow you to view the first few rows (`head()`) or the last few rows (`tail()`) of a DataFrame. They are useful for quickly inspecting the structure and content of a DataFrame.\n",
        "\n",
        "2. `info()`: This function provides a concise summary of the DataFrame, including the number of rows and columns, column names, data types, and memory usage. It helps in understanding the overall structure of the DataFrame.\n",
        "\n",
        "3. `describe()`: This function generates descriptive statistics of the numerical columns in the DataFrame, such as count, mean, standard deviation, minimum, maximum, and quartile values. It provides insights into the distribution and summary statistics of the data.\n",
        "\n",
        "4. `sort_values()`: This function allows you to sort the DataFrame based on one or more columns. You can specify the column(s) to sort by and whether to sort in ascending or descending order. It is helpful when you want to order the data based on certain criteria.\n",
        "\n",
        "5. `drop()`: This function allows you to remove specific rows or columns from the DataFrame. You can specify the labels of the rows or columns you want to drop, along with the axis parameter (0 for rows, 1 for columns). It is useful for excluding irrelevant or duplicate data.\n",
        "\n",
        "6. `fillna()`: This function helps in filling missing values in the DataFrame with a specified value or a method such as forward-fill or backward-fill. It enables you to handle missing data and ensure the integrity of the analysis.\n",
        "\n",
        "7. `groupby()`: This function enables grouping of data based on one or more columns, allowing you to perform aggregation operations on subsets of the data. You can apply functions like sum, mean, count, etc., to the grouped data.\n",
        "\n",
        "8. `merge()`: This function allows you to combine multiple DataFrames based on common columns or indices. It is useful when you need to join or merge data from different sources or perform relational database-like operations.\n",
        "\n",
        "."
      ],
      "metadata": {
        "id": "gIQPjgu3jnzx"
      }
    },
    {
      "cell_type": "code",
      "source": [],
      "metadata": {
        "id": "RMDTq6nukAIV"
      },
      "execution_count": null,
      "outputs": []
    },
    {
      "cell_type": "markdown",
      "source": [
        "## Q6. Which of the following is mutable in nature Series, DataFrame, Panel?"
      ],
      "metadata": {
        "id": "EpU2EMZ1kEWU"
      }
    },
    {
      "cell_type": "markdown",
      "source": [
        "In Pandas, both Series and DataFrame are mutable in nature, meaning their values can be modified after creation. However, Panel is not mutable.\n",
        "\n",
        "A Series represents a one-dimensional array-like object with an index and can be modified by assigning new values to specific indices or by using various methods provided by Pandas, such as `loc` or `at`.\n",
        "\n",
        "Similarly, a DataFrame represents a two-dimensional tabular data structure with labeled axes (rows and columns). You can modify the values in a DataFrame by assigning new values to specific cells, adding or removing columns, or using DataFrame methods like `loc`, `at`, `iloc`, or `iat`.\n",
        "\n",
        "On the other hand, Panel is a three-dimensional data structure that is less commonly used compared to Series and DataFrame. Panels are mutable up to Pandas version 0.20.0, but they have been deprecated since then, and the recommended way to work with three-dimensional data is to use the MultiIndex functionality within a DataFrame.\n",
        "\n",
        "In summary, Series and DataFrame are mutable, allowing modifications to their values and structure, while Panel is not recommended for use and is not mutable."
      ],
      "metadata": {
        "id": "7utLYwJdkBDM"
      }
    },
    {
      "cell_type": "code",
      "source": [],
      "metadata": {
        "id": "FOK8jZSDkMYG"
      },
      "execution_count": null,
      "outputs": []
    },
    {
      "cell_type": "markdown",
      "source": [
        "## Q7. Create a DataFrame using multiple Series. Explain with an example."
      ],
      "metadata": {
        "id": "xhKzjYRpkMvF"
      }
    },
    {
      "cell_type": "markdown",
      "source": [
        "Certainly! You can create a DataFrame using multiple Series by combining them together. Each Series represents a column in the DataFrame, and they should have the same length to align properly. Here's an example:"
      ],
      "metadata": {
        "id": "Saday3-wkOtZ"
      }
    },
    {
      "cell_type": "code",
      "source": [
        "import pandas as pd\n",
        "\n",
        "# Creating Series\n",
        "name_series = pd.Series(['Alice', 'Bob', 'Claire'])\n",
        "age_series = pd.Series([25, 30, 27])\n",
        "gender_series = pd.Series(['Female', 'Male', 'Female'])\n",
        "\n",
        "# Creating DataFrame\n",
        "data = {\n",
        "    'Name': name_series,\n",
        "    'Age': age_series,\n",
        "    'Gender': gender_series\n",
        "}\n",
        "\n",
        "df = pd.DataFrame(data)\n",
        "print(df)\n"
      ],
      "metadata": {
        "colab": {
          "base_uri": "https://localhost:8080/"
        },
        "id": "kXCOu9E4kVqa",
        "outputId": "62847f4d-8fcd-49f5-97dd-c23c14f9f693"
      },
      "execution_count": 6,
      "outputs": [
        {
          "output_type": "stream",
          "name": "stdout",
          "text": [
            "     Name  Age  Gender\n",
            "0   Alice   25  Female\n",
            "1     Bob   30    Male\n",
            "2  Claire   27  Female\n"
          ]
        }
      ]
    },
    {
      "cell_type": "markdown",
      "source": [
        "In the example above, we first create three separate Series: name_series, age_series, and gender_series, representing the 'Name', 'Age', and 'Gender' columns, respectively.\n",
        "\n",
        "Then, we create a dictionary called data where each key corresponds to the column name, and the corresponding value is the respective Series.\n",
        "\n",
        "Finally, we use the pd.DataFrame() function and pass the data dictionary to create the DataFrame df, which combines the Series into a tabular structure.\n",
        "\n",
        "The resulting DataFrame contains three columns: 'Name', 'Age', and 'Gender', with the values from the respective Series.\n",
        "\n",
        "Note that the Series should have the same length, or else the DataFrame creation might result in an error or introduce missing values."
      ],
      "metadata": {
        "id": "WLNpcV_SklTK"
      }
    },
    {
      "cell_type": "code",
      "source": [],
      "metadata": {
        "id": "q_VSGw_nkiAL"
      },
      "execution_count": null,
      "outputs": []
    }
  ]
}