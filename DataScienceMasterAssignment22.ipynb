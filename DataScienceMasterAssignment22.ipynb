{
  "nbformat": 4,
  "nbformat_minor": 0,
  "metadata": {
    "colab": {
      "provenance": []
    },
    "kernelspec": {
      "name": "python3",
      "display_name": "Python 3"
    },
    "language_info": {
      "name": "python"
    }
  },
  "cells": [
    {
      "cell_type": "markdown",
      "source": [
        "#**Assignment**"
      ],
      "metadata": {
        "id": "jM-KWdm7J0WL"
      }
    },
    {
      "cell_type": "markdown",
      "source": [
        "## This is the assignment in week 9 ML TOOLBOX - Numpy"
      ],
      "metadata": {
        "id": "cQzSO6XzJ7rV"
      }
    },
    {
      "cell_type": "markdown",
      "source": [
        "## Consider the below code to answer further questions:\n",
        "##import numpy as np\n",
        "## list_ = [ ‘1’ , ’2’ , ‘3’ , ‘4’ , ‘5’ ]\n",
        "## array_list = np.array(object = list_)"
      ],
      "metadata": {
        "id": "zSgvbixyKcv3"
      }
    },
    {
      "cell_type": "markdown",
      "source": [
        "### Q1. Is there any difference in the data type of variables list_ and array_list? If there is then write a code to print the data types of both the variables."
      ],
      "metadata": {
        "id": "cYUnmYgOKgc3"
      }
    },
    {
      "cell_type": "markdown",
      "source": [
        "Ans- Yes there is a difference in data type variable list and array_list\n",
        "variable list is a list data type and array_list is a array data type\n"
      ],
      "metadata": {
        "id": "1AtgzauQKt0E"
      }
    },
    {
      "cell_type": "code",
      "source": [
        "import numpy as np\n",
        "\n",
        "list_ = ['1', '2', '3', '4', '5']\n",
        "array_list = np.array(object=list_)\n",
        "\n",
        "print(\"Data type of 'list_':\", type(list_))\n",
        "print(\"Data type of 'array_list':\", type(array_list))\n"
      ],
      "metadata": {
        "colab": {
          "base_uri": "https://localhost:8080/"
        },
        "id": "W3nXzuoyLw1q",
        "outputId": "2b0ea548-df62-41f8-dc1d-01029fee16db"
      },
      "execution_count": 19,
      "outputs": [
        {
          "output_type": "stream",
          "name": "stdout",
          "text": [
            "Data type of 'list_': <class 'list'>\n",
            "Data type of 'array_list': <class 'numpy.ndarray'>\n"
          ]
        }
      ]
    },
    {
      "cell_type": "markdown",
      "source": [
        "### Q2. Write a code to print the data type of each and every element of both the variables list_ and arra_list."
      ],
      "metadata": {
        "id": "gDzYptE7MjqA"
      }
    },
    {
      "cell_type": "code",
      "source": [
        "for i in list_:\n",
        "  print(type(i))"
      ],
      "metadata": {
        "colab": {
          "base_uri": "https://localhost:8080/"
        },
        "id": "3guz3xvnMQv5",
        "outputId": "b3cd1676-f781-4880-b4a0-bd063e73cecb"
      },
      "execution_count": 20,
      "outputs": [
        {
          "output_type": "stream",
          "name": "stdout",
          "text": [
            "<class 'str'>\n",
            "<class 'str'>\n",
            "<class 'str'>\n",
            "<class 'str'>\n",
            "<class 'str'>\n"
          ]
        }
      ]
    },
    {
      "cell_type": "code",
      "source": [
        "for i in array_list:\n",
        "  print(type(i))"
      ],
      "metadata": {
        "colab": {
          "base_uri": "https://localhost:8080/"
        },
        "id": "h8BkaURxNOY4",
        "outputId": "f17c97e7-ec5d-4801-a7a3-c4264ad0bd5f"
      },
      "execution_count": 22,
      "outputs": [
        {
          "output_type": "stream",
          "name": "stdout",
          "text": [
            "<class 'numpy.str_'>\n",
            "<class 'numpy.str_'>\n",
            "<class 'numpy.str_'>\n",
            "<class 'numpy.str_'>\n",
            "<class 'numpy.str_'>\n"
          ]
        }
      ]
    },
    {
      "cell_type": "markdown",
      "source": [
        "### Q3. Considering the following changes in the variable, array_list:\n",
        "## array_list = np.array(object = list_, dtype = int)"
      ],
      "metadata": {
        "id": "v6xqQeWrNp0m"
      }
    },
    {
      "cell_type": "code",
      "source": [
        " array_list = np.array(object = list_, dtype = int)"
      ],
      "metadata": {
        "id": "XAo12RJxNayi"
      },
      "execution_count": 27,
      "outputs": []
    },
    {
      "cell_type": "code",
      "source": [
        "array_list"
      ],
      "metadata": {
        "colab": {
          "base_uri": "https://localhost:8080/"
        },
        "id": "3hM4aTimNyBq",
        "outputId": "42dc760c-652e-400a-dc0e-2058eb8d4096"
      },
      "execution_count": 28,
      "outputs": [
        {
          "output_type": "execute_result",
          "data": {
            "text/plain": [
              "array([1, 2, 3, 4, 5])"
            ]
          },
          "metadata": {},
          "execution_count": 28
        }
      ]
    },
    {
      "cell_type": "code",
      "source": [
        "print(\"Data type of elements in 'list_':\")\n",
        "for item in list_:\n",
        "    print(type(item))\n",
        "\n",
        "print(\"\\nData type of elements in 'array_list':\")\n",
        "for item in array_list:\n",
        "    print(type(item))"
      ],
      "metadata": {
        "colab": {
          "base_uri": "https://localhost:8080/"
        },
        "id": "Naq8eT9wN3e2",
        "outputId": "1c10fa35-d373-4741-947d-3b91a837e0e0"
      },
      "execution_count": 30,
      "outputs": [
        {
          "output_type": "stream",
          "name": "stdout",
          "text": [
            "Data type of elements in 'list_':\n",
            "<class 'str'>\n",
            "<class 'str'>\n",
            "<class 'str'>\n",
            "<class 'str'>\n",
            "<class 'str'>\n",
            "\n",
            "Data type of elements in 'array_list':\n",
            "<class 'numpy.int64'>\n",
            "<class 'numpy.int64'>\n",
            "<class 'numpy.int64'>\n",
            "<class 'numpy.int64'>\n",
            "<class 'numpy.int64'>\n"
          ]
        }
      ]
    },
    {
      "cell_type": "markdown",
      "source": [
        "Yes there will be change but only in array_list becouse we have done changes only in array_list variable so the datatype of all the element become int type and data type of list_ remain same"
      ],
      "metadata": {
        "id": "_aFBevVaOrFe"
      }
    },
    {
      "cell_type": "code",
      "source": [
        "# Consider the below code to answer further questions:\n",
        "\n",
        "num_list = [ [ 1 , 2 , 3 ] , [ 4 , 5 , 6 ] ]\n",
        "num_array = np.array(object = num_list)"
      ],
      "metadata": {
        "id": "TfJSlKHNOTwD"
      },
      "execution_count": 32,
      "outputs": []
    },
    {
      "cell_type": "markdown",
      "source": [
        "### Q4. Write a code to find the following characteristics of variable, num_array:\n",
        "### (i) shape\n",
        "### (ii) size"
      ],
      "metadata": {
        "id": "3HpE-_4ZPpYc"
      }
    },
    {
      "cell_type": "code",
      "source": [
        "np.shape(num_array)"
      ],
      "metadata": {
        "colab": {
          "base_uri": "https://localhost:8080/"
        },
        "id": "XX5GTLtRPgrl",
        "outputId": "e1d9e65f-8005-42a5-9fc8-b3cac2bcf057"
      },
      "execution_count": 33,
      "outputs": [
        {
          "output_type": "execute_result",
          "data": {
            "text/plain": [
              "(2, 3)"
            ]
          },
          "metadata": {},
          "execution_count": 33
        }
      ]
    },
    {
      "cell_type": "code",
      "source": [
        "np.size(num_array)"
      ],
      "metadata": {
        "colab": {
          "base_uri": "https://localhost:8080/"
        },
        "id": "-3gdO1_hQis_",
        "outputId": "23c4a583-47e5-432e-99e6-64bc925c4da2"
      },
      "execution_count": 34,
      "outputs": [
        {
          "output_type": "execute_result",
          "data": {
            "text/plain": [
              "6"
            ]
          },
          "metadata": {},
          "execution_count": 34
        }
      ]
    },
    {
      "cell_type": "markdown",
      "source": [
        "### Q5. Write a code to create numpy array of 3*3 matrix containing zeros only, using a numpy array creation function.\n",
        "[Hint: The size of the array will be 9 and the shape will be (3,3).]"
      ],
      "metadata": {
        "id": "6QtNrjGNRGRL"
      }
    },
    {
      "cell_type": "code",
      "source": [
        "array = np.zeros((3,3))"
      ],
      "metadata": {
        "id": "3m-5TCwsQn9e"
      },
      "execution_count": 37,
      "outputs": []
    },
    {
      "cell_type": "code",
      "source": [
        "array"
      ],
      "metadata": {
        "colab": {
          "base_uri": "https://localhost:8080/"
        },
        "id": "nBhOHckARTQc",
        "outputId": "157a847a-d424-4741-988f-d530d2a6f632"
      },
      "execution_count": 38,
      "outputs": [
        {
          "output_type": "execute_result",
          "data": {
            "text/plain": [
              "array([[0., 0., 0.],\n",
              "       [0., 0., 0.],\n",
              "       [0., 0., 0.]])"
            ]
          },
          "metadata": {},
          "execution_count": 38
        }
      ]
    },
    {
      "cell_type": "markdown",
      "source": [
        "### Q6. Create an identity matrix of shape (5,5) using numpy functions?\n",
        "[Hint: An identity matrix is a matrix containing 1 diagonally and other elements will be 0.]"
      ],
      "metadata": {
        "id": "JSzxMaUARuzb"
      }
    },
    {
      "cell_type": "code",
      "source": [
        "np.eye(5)"
      ],
      "metadata": {
        "colab": {
          "base_uri": "https://localhost:8080/"
        },
        "id": "a_8E2gpsRadc",
        "outputId": "4e216d01-90f9-46f5-d469-7be05e046535"
      },
      "execution_count": 39,
      "outputs": [
        {
          "output_type": "execute_result",
          "data": {
            "text/plain": [
              "array([[1., 0., 0., 0., 0.],\n",
              "       [0., 1., 0., 0., 0.],\n",
              "       [0., 0., 1., 0., 0.],\n",
              "       [0., 0., 0., 1., 0.],\n",
              "       [0., 0., 0., 0., 1.]])"
            ]
          },
          "metadata": {},
          "execution_count": 39
        }
      ]
    },
    {
      "cell_type": "code",
      "source": [],
      "metadata": {
        "id": "lDCBcfyPSIKW"
      },
      "execution_count": null,
      "outputs": []
    }
  ]
}