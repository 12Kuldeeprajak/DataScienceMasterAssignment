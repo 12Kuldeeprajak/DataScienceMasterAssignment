{
  "nbformat": 4,
  "nbformat_minor": 0,
  "metadata": {
    "colab": {
      "provenance": []
    },
    "kernelspec": {
      "name": "python3",
      "display_name": "Python 3"
    },
    "language_info": {
      "name": "python"
    }
  },
  "cells": [
    {
      "cell_type": "markdown",
      "source": [
        "#**Assignment** 7\n",
        "## This is the assignment in week 12 Statistics -Statistics advance 02\n"
      ],
      "metadata": {
        "id": "jKDdDqCcLQuX"
      }
    },
    {
      "cell_type": "markdown",
      "source": [
        "## Q1. Write a Python function that takes in two arrays of data and calculates the F-value for a variance ratio test. The function should return the F-value and the corresponding p-value for the test."
      ],
      "metadata": {
        "id": "yAUYaDUJLW6y"
      }
    },
    {
      "cell_type": "markdown",
      "source": [
        "You can calculate the F-value and corresponding p-value for a variance ratio test (ANOVA) using Python's `scipy.stats` library. Here's a Python function that takes two arrays of data and performs the variance ratio test:\n",
        "\n",
        "```python\n",
        "import scipy.stats as stats\n",
        "\n",
        "def variance_ratio_test(data1, data2):\n",
        "    \"\"\"\n",
        "    Perform a variance ratio test (ANOVA) on two arrays of data.\n",
        "\n",
        "    Parameters:\n",
        "    - data1: First array of data\n",
        "    - data2: Second array of data\n",
        "\n",
        "    Returns:\n",
        "    - f_value: The F-value from the variance ratio test\n",
        "    - p_value: The corresponding p-value\n",
        "    \"\"\"\n",
        "\n",
        "    # Perform the variance ratio test (ANOVA)\n",
        "    f_value, p_value = stats.f_oneway(data1, data2)\n",
        "\n",
        "    return f_value, p_value\n",
        "\n",
        "# Example usage:\n",
        "data1 = [23, 27, 30, 21, 25]\n",
        "data2 = [18, 20, 24, 17, 22]\n",
        "\n",
        "f_value, p_value = variance_ratio_test(data1, data2)\n",
        "print(f'F-value: {f_value}')\n",
        "print(f'p-value: {p_value}')\n",
        "```\n",
        "\n",
        "In this code:\n",
        "\n",
        "- The `variance_ratio_test` function takes two arrays of data, `data1` and `data2`, as input.\n",
        "- It uses `stats.f_oneway` to perform the variance ratio test (ANOVA) and calculates the F-value and p-value.\n",
        "- The function returns the F-value and p-value as a tuple.\n",
        "\n",
        "You can use this function by providing your own datasets in `data1` and `data2`, and it will return the F-value and p-value for the variance ratio test."
      ],
      "metadata": {
        "id": "wKb1Z23mLiOT"
      }
    },
    {
      "cell_type": "code",
      "execution_count": null,
      "metadata": {
        "id": "bNq2iWHjLF7k"
      },
      "outputs": [],
      "source": []
    },
    {
      "cell_type": "markdown",
      "source": [
        "## Q2. Given a significance level of 0.05 and the degrees of freedom for the numerator and denominator of an F-distribution, write a Python function that returns the critical F-value for a two-tailed test."
      ],
      "metadata": {
        "id": "HgLfWWJqL08g"
      }
    },
    {
      "cell_type": "markdown",
      "source": [
        "To calculate the critical F-value for a two-tailed test with a given significance level (\\(\\alpha\\)) and degrees of freedom for the numerator and denominator of an F-distribution, you can use the `scipy.stats` library in Python. Here's a Python function to do that:\n",
        "\n",
        "```python\n",
        "import scipy.stats as stats\n",
        "\n",
        "def critical_f_value(alpha, dfn, dfd):\n",
        "    \"\"\"\n",
        "    Calculate the critical F-value for a two-tailed test.\n",
        "\n",
        "    Parameters:\n",
        "    - alpha: Significance level (e.g., 0.05 for a 95% confidence level)\n",
        "    - dfn: Degrees of freedom for the numerator\n",
        "    - dfd: Degrees of freedom for the denominator\n",
        "\n",
        "    Returns:\n",
        "    - critical_f: The critical F-value\n",
        "    \"\"\"\n",
        "\n",
        "    # Calculate the critical F-value\n",
        "    critical_f = stats.f.ppf(1 - alpha/2, dfn, dfd)\n",
        "\n",
        "    return critical_f\n",
        "\n",
        "# Example usage:\n",
        "alpha = 0.05  # Significance level (e.g., 0.05 for a 95% confidence level)\n",
        "dfn = 3       # Degrees of freedom for the numerator\n",
        "dfd = 20      # Degrees of freedom for the denominator\n",
        "\n",
        "critical_f = critical_f_value(alpha, dfn, dfd)\n",
        "print(f'Critical F-value: {critical_f}')\n",
        "```\n",
        "\n",
        "In this code:\n",
        "\n",
        "- The `critical_f_value` function takes three parameters: `alpha` (significance level), `dfn` (degrees of freedom for the numerator), and `dfd` (degrees of freedom for the denominator).\n",
        "- It uses `stats.f.ppf` to calculate the critical F-value for a two-tailed test. The `1 - alpha/2` argument corresponds to the upper tail of the F-distribution.\n",
        "- The function returns the critical F-value.\n",
        "\n",
        "You can use this function by providing your own significance level, degrees of freedom for the numerator, and degrees of freedom for the denominator, and it will return the critical F-value for a two-tailed test."
      ],
      "metadata": {
        "id": "RrayISr3L55P"
      }
    },
    {
      "cell_type": "code",
      "source": [],
      "metadata": {
        "id": "0FTZ3EOrMCSr"
      },
      "execution_count": null,
      "outputs": []
    },
    {
      "cell_type": "markdown",
      "source": [
        "## Q3. Write a Python program that generates random samples from two normal distributions with known variances and uses an F-test to determine if the variances are equal. The program should output the F- value, degrees of freedom, and p-value for the test."
      ],
      "metadata": {
        "id": "eIfVxegTMCsX"
      }
    },
    {
      "cell_type": "markdown",
      "source": [
        "You can use Python with the `numpy` and `scipy.stats` libraries to generate random samples from two normal distributions with known variances and perform an F-test to determine if the variances are equal. Here's a Python program to do that:\n",
        "\n",
        "```python\n",
        "import numpy as np\n",
        "import scipy.stats as stats\n",
        "\n",
        "# Set the random seed for reproducibility\n",
        "np.random.seed(0)\n",
        "\n",
        "# Generate random samples from two normal distributions with known variances\n",
        "variance1 = 4.0  # Variance of the first distribution\n",
        "variance2 = 9.0  # Variance of the second distribution\n",
        "sample_size1 = 30\n",
        "sample_size2 = 30\n",
        "\n",
        "sample1 = np.random.normal(loc=0, scale=np.sqrt(variance1), size=sample_size1)\n",
        "sample2 = np.random.normal(loc=0, scale=np.sqrt(variance2), size=sample_size2)\n",
        "\n",
        "# Perform an F-test to compare variances\n",
        "f_statistic = np.var(sample1, ddof=1) / np.var(sample2, ddof=1)\n",
        "dfn = sample_size1 - 1\n",
        "dfd = sample_size2 - 1\n",
        "p_value = 2 * min(stats.f.cdf(f_statistic, dfn, dfd), 1 - stats.f.cdf(f_statistic, dfn, dfd))\n",
        "\n",
        "# Output the results\n",
        "print(f'F-statistic: {f_statistic:.4f}')\n",
        "print(f'Degrees of freedom (numerator): {dfn}')\n",
        "print(f'Degrees of freedom (denominator): {dfd}')\n",
        "print(f'p-value: {p_value:.4f}')\n",
        "\n",
        "# Test the null hypothesis (H0: Variances are equal) based on the p-value and chosen significance level\n",
        "alpha = 0.05  # Significance level\n",
        "if p_value < alpha:\n",
        "    print(\"Reject the null hypothesis: Variances are not equal.\")\n",
        "else:\n",
        "    print(\"Fail to reject the null hypothesis: Variances are equal.\")\n",
        "```\n",
        "\n",
        "In this code:\n",
        "\n",
        "- We generate random samples from two normal distributions with known variances (`variance1` and `variance2`) using `np.random.normal`.\n",
        "- We calculate the F-statistic by comparing the sample variances and degrees of freedom for both samples.\n",
        "- We calculate the p-value for the F-test based on the F-statistic, degrees of freedom, and the cumulative distribution function of the F-distribution.\n",
        "- We output the F-statistic, degrees of freedom for the numerator and denominator, and the p-value.\n",
        "- Finally, we test the null hypothesis based on the p-value and chosen significance level. If the p-value is less than the significance level, we reject the null hypothesis, indicating that the variances are not equal; otherwise, we fail to reject the null hypothesis, suggesting that the variances are equal."
      ],
      "metadata": {
        "id": "qC1yJx-iMgpi"
      }
    },
    {
      "cell_type": "code",
      "source": [],
      "metadata": {
        "id": "4yjyNxAjMnNI"
      },
      "execution_count": null,
      "outputs": []
    },
    {
      "cell_type": "markdown",
      "source": [
        "## Q4.The variances of two populations are known to be 10 and 15. A sample of 12 observations is taken from each population. Conduct an F-test at the 5% significance level to determine if the variances are significantly different."
      ],
      "metadata": {
        "id": "by3oiP2xMnmK"
      }
    },
    {
      "cell_type": "markdown",
      "source": [
        "To conduct an F-test at the 5% significance level to determine if the variances of two populations are significantly different, you can follow these steps:\n",
        "\n",
        "1. Set up the null and alternative hypotheses:\n",
        "   - Null Hypothesis (\\(H_0\\)): The variances are equal (\\(\\sigma_1^2 = \\sigma_2^2\\)).\n",
        "   - Alternative Hypothesis (\\(H_1\\)): The variances are not equal (\\(\\sigma_1^2 \\neq \\sigma_2^2\\)).\n",
        "\n",
        "2. Determine the significance level (\\(\\alpha\\)) for the test. In this case, it's 0.05.\n",
        "\n",
        "3. Calculate the F-statistic using the formula:\n",
        "\n",
        "   \\[\n",
        "   F = \\frac{{\\text{Variance of Population 1}}}{{\\text{Variance of Population 2}}}\n",
        "   \\]\n",
        "\n",
        "4. Determine the degrees of freedom for both populations:\n",
        "   - Degrees of Freedom for Population 1 (\\(df_1\\)) = Sample Size for Population 1 - 1 = 12 - 1 = 11\n",
        "   - Degrees of Freedom for Population 2 (\\(df_2\\)) = Sample Size for Population 2 - 1 = 12 - 1 = 11\n",
        "\n",
        "5. Use the F-distribution tables or a statistical calculator to find the critical F-value for a two-tailed test at the 5% significance level with \\(df_1\\) and \\(df_2\\) degrees of freedom.\n",
        "\n",
        "6. Compare the calculated F-statistic to the critical F-value:\n",
        "   - If the calculated F-statistic is greater than the critical F-value or less than its reciprocal (due to the two-tailed nature of the test), reject the null hypothesis (\\(H_0\\)).\n",
        "   - If the calculated F-statistic falls within the critical region, it suggests that the variances are significantly different.\n",
        "\n",
        "Let's calculate the F-statistic and perform the F-test:\n",
        "\n",
        "```python\n",
        "# Given variances\n",
        "variance1 = 10\n",
        "variance2 = 15\n",
        "\n",
        "# Sample sizes\n",
        "sample_size1 = 12\n",
        "sample_size2 = 12\n",
        "\n",
        "# Calculate the F-statistic\n",
        "f_statistic = variance1 / variance2\n",
        "\n",
        "# Degrees of freedom\n",
        "df1 = sample_size1 - 1\n",
        "df2 = sample_size2 - 1\n",
        "\n",
        "# Significance level\n",
        "alpha = 0.05\n",
        "\n",
        "# Find the critical F-value for a two-tailed test\n",
        "critical_f_value = stats.f.ppf(1 - alpha/2, df1, df2)\n",
        "\n",
        "# Perform the F-test\n",
        "if f_statistic > critical_f_value or f_statistic < 1/critical_f_value:\n",
        "    print(\"Reject the null hypothesis: The variances are significantly different.\")\n",
        "else:\n",
        "    print(\"Fail to reject the null hypothesis: The variances are not significantly different.\")\n",
        "```\n",
        "\n",
        "In this code:\n",
        "\n",
        "- We calculate the F-statistic by dividing the variance of Population 1 by the variance of Population 2.\n",
        "- We determine the degrees of freedom for both populations and the significance level (\\(\\alpha\\)).\n",
        "- We find the critical F-value for a two-tailed test at the 5% significance level.\n",
        "- We compare the calculated F-statistic to the critical F-value and make a decision regarding the null hypothesis.\n",
        "\n",
        "If the calculated F-statistic is outside the critical region, we reject the null hypothesis, indicating that the variances are significantly different. If it falls within the critical region, we fail to reject the null hypothesis, suggesting that the variances are not significantly different."
      ],
      "metadata": {
        "id": "AAtXmqdqMyaX"
      }
    },
    {
      "cell_type": "code",
      "source": [],
      "metadata": {
        "id": "HPUjoRt7M1vo"
      },
      "execution_count": null,
      "outputs": []
    },
    {
      "cell_type": "markdown",
      "source": [
        "## Q5. A manufacturer claims that the variance of the diameter of a certain product is 0.005. A sample of 25 products is taken, and the sample variance is found to be 0.006. Conduct an F-test at the 1% significance level to determine if the claim is justified."
      ],
      "metadata": {
        "id": "VNkd9lSeM2CV"
      }
    },
    {
      "cell_type": "markdown",
      "source": [
        "To determine if the manufacturer's claim about the variance of the product's diameter is justified, we can conduct an F-test at the 1% significance level. Here are the steps:\n",
        "\n",
        "1. Set up the null and alternative hypotheses:\n",
        "   - Null Hypothesis (\\(H_0\\)): The manufacturer's claim is justified, i.e., the population variance is 0.005 (\\(\\sigma^2 = 0.005\\)).\n",
        "   - Alternative Hypothesis (\\(H_1\\)): The manufacturer's claim is not justified, i.e., the population variance is not 0.005 (\\(\\sigma^2 \\neq 0.005\\)).\n",
        "\n",
        "2. Determine the significance level (\\(\\alpha\\)) for the test. In this case, it's 0.01 (1% significance level).\n",
        "\n",
        "3. Calculate the F-statistic using the formula:\n",
        "\n",
        "   \\[\n",
        "   F = \\frac{{\\text{Sample Variance}}}{{\\text{Claimed Population Variance}}}\n",
        "   \\]\n",
        "\n",
        "4. Determine the degrees of freedom for both populations:\n",
        "   - Degrees of Freedom for the Sample (\\(df_1\\)) = Sample Size - 1 = 25 - 1 = 24\n",
        "   - Degrees of Freedom for the Population (\\(df_2\\)) = Large number (to approximate the population variance)\n",
        "\n",
        "5. Use the F-distribution tables or a statistical calculator to find the critical F-value for a two-tailed test at the 1% significance level with \\(df_1\\) and a large number (e.g., 1000) degrees of freedom for the population.\n",
        "\n",
        "6. Compare the calculated F-statistic to the critical F-value:\n",
        "   - If the calculated F-statistic is greater than the critical F-value or less than its reciprocal (due to the two-tailed nature of the test), reject the null hypothesis (\\(H_0\\)).\n",
        "   - If the calculated F-statistic falls within the critical region, it suggests that the manufacturer's claim is not justified.\n",
        "\n",
        "Let's calculate the F-statistic and perform the F-test:\n",
        "\n",
        "```python\n",
        "import scipy.stats as stats\n",
        "\n",
        "# Given values\n",
        "claimed_variance = 0.005\n",
        "sample_size = 25\n",
        "sample_variance = 0.006\n",
        "\n",
        "# Calculate the F-statistic\n",
        "f_statistic = sample_variance / claimed_variance\n",
        "\n",
        "# Degrees of freedom\n",
        "df1 = sample_size - 1\n",
        "df2 = 1000  # A large number to approximate the population variance\n",
        "\n",
        "# Significance level\n",
        "alpha = 0.01\n",
        "\n",
        "# Find the critical F-value for a two-tailed test\n",
        "critical_f_value = stats.f.ppf(1 - alpha/2, df1, df2)\n",
        "\n",
        "# Perform the F-test\n",
        "if f_statistic > critical_f_value or f_statistic < 1/critical_f_value:\n",
        "    print(\"Reject the null hypothesis: The manufacturer's claim is not justified.\")\n",
        "else:\n",
        "    print(\"Fail to reject the null hypothesis: The manufacturer's claim is justified.\")\n",
        "```\n",
        "\n",
        "In this code:\n",
        "\n",
        "- We calculate the F-statistic by dividing the sample variance by the claimed population variance.\n",
        "- We determine the degrees of freedom for both the sample and the population and the significance level (\\(\\alpha\\)).\n",
        "- We find the critical F-value for a two-tailed test at the 1% significance level.\n",
        "- We compare the calculated F-statistic to the critical F-value and make a decision regarding the manufacturer's claim.\n",
        "\n",
        "If the calculated F-statistic is outside the critical region, we reject the null hypothesis, indicating that the manufacturer's claim is not justified. If it falls within the critical region, we fail to reject the null hypothesis, suggesting that the claim is justified."
      ],
      "metadata": {
        "id": "Su6__UW_NARt"
      }
    },
    {
      "cell_type": "code",
      "source": [],
      "metadata": {
        "id": "KlFjIpygNHj-"
      },
      "execution_count": null,
      "outputs": []
    },
    {
      "cell_type": "markdown",
      "source": [
        "## Q6. Write a Python function that takes in the degrees of freedom for the numerator and denominator of an F-distribution and calculates the mean and variance of the distribution. The function should return the mean and variance as a tuple."
      ],
      "metadata": {
        "id": "DYp42pJuNFbq"
      }
    },
    {
      "cell_type": "markdown",
      "source": [
        "To calculate the mean and variance of an F-distribution given the degrees of freedom for the numerator (\\(df_1\\)) and denominator (\\(df_2\\)), you can use the formulas for the mean and variance of the F-distribution. Here's a Python function to do that:\n",
        "\n",
        "```python\n",
        "def f_distribution_mean_and_variance(df1, df2):\n",
        "    \"\"\"\n",
        "    Calculate the mean and variance of an F-distribution.\n",
        "\n",
        "    Parameters:\n",
        "    - df1: Degrees of freedom for the numerator\n",
        "    - df2: Degrees of freedom for the denominator\n",
        "\n",
        "    Returns:\n",
        "    - mean: Mean of the F-distribution\n",
        "    - variance: Variance of the F-distribution\n",
        "    \"\"\"\n",
        "\n",
        "    # Mean of the F-distribution\n",
        "    mean = df2 / (df2 - 2) if df2 > 2 else None\n",
        "\n",
        "    # Variance of the F-distribution\n",
        "    if df2 > 4:\n",
        "        variance = (2 * (df2 ** 2) * (df1 + df2 - 2)) / (df1 * (df2 - 2) ** 2 * (df2 - 4))\n",
        "    else:\n",
        "        variance = None\n",
        "\n",
        "    return mean, variance\n",
        "\n",
        "# Example usage:\n",
        "df1 = 5\n",
        "df2 = 10\n",
        "\n",
        "mean, variance = f_distribution_mean_and_variance(df1, df2)\n",
        "print(f'Mean of the F-distribution: {mean}')\n",
        "print(f'Variance of the F-distribution: {variance}')\n",
        "```\n",
        "\n",
        "In this code:\n",
        "\n",
        "- The `f_distribution_mean_and_variance` function takes two parameters, `df1` and `df2`, which are the degrees of freedom for the numerator and denominator of the F-distribution, respectively.\n",
        "- It calculates the mean and variance of the F-distribution using the provided formulas.\n",
        "- The mean and variance are returned as a tuple.\n",
        "\n",
        "Note that the calculations depend on the values of \\(df_1\\) and \\(df_2\\), and there are some special cases to consider, such as when \\(df_2\\) is less than or equal to 2 or when \\(df_2\\) is less than or equal to 4. These special cases are handled in the function."
      ],
      "metadata": {
        "id": "dYKeCeB6NL9H"
      }
    },
    {
      "cell_type": "code",
      "source": [],
      "metadata": {
        "id": "n5PmwMdiNOwv"
      },
      "execution_count": null,
      "outputs": []
    },
    {
      "cell_type": "markdown",
      "source": [
        "## Q7. A random sample of 10 measurements is taken from a normal population with unknown variance. The sample variance is found to be 25. Another random sample of 15 measurements is taken from another normal population with unknown variance, and the sample variance is found to be 20. Conduct an F-test at the 10% significance level to determine if the variances are significantly different."
      ],
      "metadata": {
        "id": "G-eVYDJiNPVe"
      }
    },
    {
      "cell_type": "markdown",
      "source": [
        "To determine if the variances of two populations are significantly different, you can conduct an F-test at the 10% significance level. Here are the steps:\n",
        "\n",
        "1. Set up the null and alternative hypotheses:\n",
        "   - Null Hypothesis (\\(H_0\\)): The variances of the two populations are equal (\\(\\sigma_1^2 = \\sigma_2^2\\)).\n",
        "   - Alternative Hypothesis (\\(H_1\\)): The variances of the two populations are not equal (\\(\\sigma_1^2 \\neq \\sigma_2^2\\)).\n",
        "\n",
        "2. Determine the significance level (\\(\\alpha\\)) for the test. In this case, it's 0.10 (10% significance level).\n",
        "\n",
        "3. Calculate the F-statistic using the formula:\n",
        "\n",
        "   \\[\n",
        "   F = \\frac{{\\text{Sample Variance of Population 1}}}{{\\text{Sample Variance of Population 2}}}\n",
        "   \\]\n",
        "\n",
        "4. Determine the degrees of freedom for both populations:\n",
        "   - Degrees of Freedom for Sample 1 (\\(df_1\\)) = Sample Size 1 - 1 = 10 - 1 = 9\n",
        "   - Degrees of Freedom for Sample 2 (\\(df_2\\)) = Sample Size 2 - 1 = 15 - 1 = 14\n",
        "\n",
        "5. Use the F-distribution tables or a statistical calculator to find the critical F-value for a two-tailed test at the 10% significance level with \\(df_1\\) and \\(df_2\\) degrees of freedom.\n",
        "\n",
        "6. Compare the calculated F-statistic to the critical F-value:\n",
        "   - If the calculated F-statistic is greater than the critical F-value or less than its reciprocal (due to the two-tailed nature of the test), reject the null hypothesis (\\(H_0\\)).\n",
        "   - If the calculated F-statistic falls within the critical region, it suggests that the variances are not significantly different.\n",
        "\n",
        "Let's calculate the F-statistic and perform the F-test:\n",
        "\n",
        "```python\n",
        "import scipy.stats as stats\n",
        "\n",
        "# Given sample variances\n",
        "sample_variance1 = 25.0\n",
        "sample_variance2 = 20.0\n",
        "\n",
        "# Sample sizes\n",
        "sample_size1 = 10\n",
        "sample_size2 = 15\n",
        "\n",
        "# Calculate the F-statistic\n",
        "f_statistic = sample_variance1 / sample_variance2\n",
        "\n",
        "# Degrees of freedom\n",
        "df1 = sample_size1 - 1\n",
        "df2 = sample_size2 - 1\n",
        "\n",
        "# Significance level\n",
        "alpha = 0.10\n",
        "\n",
        "# Find the critical F-value for a two-tailed test\n",
        "critical_f_value = stats.f.ppf(1 - alpha/2, df1, df2)\n",
        "\n",
        "# Perform the F-test\n",
        "if f_statistic > critical_f_value or f_statistic < 1/critical_f_value:\n",
        "    print(\"Reject the null hypothesis: The variances are not significantly different.\")\n",
        "else:\n",
        "    print(\"Fail to reject the null hypothesis: The variances are significantly different.\")\n",
        "```\n",
        "\n",
        "In this code:\n",
        "\n",
        "- We calculate the F-statistic by dividing the sample variance of Population 1 by the sample variance of Population 2.\n",
        "- We determine the degrees of freedom for both samples and the significance level (\\(\\alpha\\)).\n",
        "- We find the critical F-value for a two-tailed test at the 10% significance level.\n",
        "- We compare the calculated F-statistic to the critical F-value and make a decision regarding the null hypothesis.\n",
        "\n",
        "If the calculated F-statistic is outside the critical region, we reject the null hypothesis, indicating that the variances are not significantly different. If it falls within the critical region, we fail to reject the null hypothesis, suggesting that the variances are significantly different."
      ],
      "metadata": {
        "id": "xSnBL21TNYu9"
      }
    },
    {
      "cell_type": "code",
      "source": [],
      "metadata": {
        "id": "8N-PZudqNwgw"
      },
      "execution_count": null,
      "outputs": []
    },
    {
      "cell_type": "markdown",
      "source": [
        "## Q8. The following data represent the waiting times in minutes at two different restaurants on a Saturday night: Restaurant A: 24, 25, 28, 23, 22, 20, 27; Restaurant B: 31, 33, 35, 30, 32, 36. Conduct an F-test at the 5% significance level to determine if the variances are significantly different."
      ],
      "metadata": {
        "id": "ekB4GG9TNwyA"
      }
    },
    {
      "cell_type": "markdown",
      "source": [
        "To determine if the variances of the waiting times at Restaurant A and Restaurant B are significantly different, you can conduct an F-test at the 5% significance level. Here are the steps:\n",
        "\n",
        "1. Set up the null and alternative hypotheses:\n",
        "   - Null Hypothesis (\\(H_0\\)): The variances of the waiting times at both restaurants are equal (\\(\\sigma_A^2 = \\sigma_B^2\\)).\n",
        "   - Alternative Hypothesis (\\(H_1\\)): The variances of the waiting times at the two restaurants are not equal (\\(\\sigma_A^2 \\neq \\sigma_B^2\\)).\n",
        "\n",
        "2. Determine the significance level (\\(\\alpha\\)) for the test. In this case, it's 0.05 (5% significance level).\n",
        "\n",
        "3. Calculate the F-statistic using the formula:\n",
        "\n",
        "   \\[\n",
        "   F = \\frac{{\\text{Sample Variance of Restaurant A}}}{{\\text{Sample Variance of Restaurant B}}}\n",
        "   \\]\n",
        "\n",
        "4. Determine the degrees of freedom for both samples:\n",
        "   - Degrees of Freedom for Sample A (\\(df_1\\)) = Sample Size for Restaurant A - 1 = 7 - 1 = 6\n",
        "   - Degrees of Freedom for Sample B (\\(df_2\\)) = Sample Size for Restaurant B - 1 = 6 - 1 = 5\n",
        "\n",
        "5. Use the F-distribution tables or a statistical calculator to find the critical F-value for a two-tailed test at the 5% significance level with \\(df_1\\) and \\(df_2\\) degrees of freedom.\n",
        "\n",
        "6. Compare the calculated F-statistic to the critical F-value:\n",
        "   - If the calculated F-statistic is greater than the critical F-value or less than its reciprocal (due to the two-tailed nature of the test), reject the null hypothesis (\\(H_0\\)).\n",
        "   - If the calculated F-statistic falls within the critical region, it suggests that the variances are not significantly different.\n",
        "\n",
        "Let's calculate the F-statistic and perform the F-test:\n",
        "\n",
        "```python\n",
        "import scipy.stats as stats\n",
        "\n",
        "# Waiting times data\n",
        "waiting_times_a = [24, 25, 28, 23, 22, 20, 27]\n",
        "waiting_times_b = [31, 33, 35, 30, 32, 36]\n",
        "\n",
        "# Calculate the sample variances\n",
        "sample_variance_a = sum([(x - sum(waiting_times_a) / len(waiting_times_a))**2 for x in waiting_times_a]) / (len(waiting_times_a) - 1)\n",
        "sample_variance_b = sum([(x - sum(waiting_times_b) / len(waiting_times_b))**2 for x in waiting_times_b]) / (len(waiting_times_b) - 1)\n",
        "\n",
        "# Calculate the F-statistic\n",
        "f_statistic = sample_variance_a / sample_variance_b\n",
        "\n",
        "# Degrees of freedom\n",
        "df1 = len(waiting_times_a) - 1\n",
        "df2 = len(waiting_times_b) - 1\n",
        "\n",
        "# Significance level\n",
        "alpha = 0.05\n",
        "\n",
        "# Find the critical F-value for a two-tailed test\n",
        "critical_f_value = stats.f.ppf(1 - alpha/2, df1, df2)\n",
        "\n",
        "# Perform the F-test\n",
        "if f_statistic > critical_f_value or f_statistic < 1/critical_f_value:\n",
        "    print(\"Reject the null hypothesis: The variances are not significantly different.\")\n",
        "else:\n",
        "    print(\"Fail to reject the null hypothesis: The variances are significantly different.\")\n",
        "```\n",
        "\n",
        "In this code:\n",
        "\n",
        "- We calculate the sample variances for both restaurants.\n",
        "- We determine the degrees of freedom for both samples and the significance level (\\(\\alpha\\)).\n",
        "- We find the critical F-value for a two-tailed test at the 5% significance level.\n",
        "- We compare the calculated F-statistic to the critical F-value and make a decision regarding the null hypothesis.\n",
        "\n",
        "If the calculated F-statistic is outside the critical region, we reject the null hypothesis, indicating that the variances are not significantly different. If it falls within the critical region, we fail to reject the null hypothesis, suggesting that the variances are significantly different."
      ],
      "metadata": {
        "id": "REtF92x2N2ck"
      }
    },
    {
      "cell_type": "code",
      "source": [],
      "metadata": {
        "id": "OSfywjQON3Zt"
      },
      "execution_count": null,
      "outputs": []
    },
    {
      "cell_type": "markdown",
      "source": [
        "## Q9. The following data represent the test scores of two groups of students: Group A: 80, 85, 90, 92, 87, 83; Group B: 75, 78, 82, 79, 81, 84. Conduct an F-test at the 1% significance level to determine if the variances are significantly different."
      ],
      "metadata": {
        "id": "NNI_2KodN3yT"
      }
    },
    {
      "cell_type": "markdown",
      "source": [
        "To determine if the variances of the test scores of Group A and Group B are significantly different, you can conduct an F-test at the 1% significance level. Here are the steps:\n",
        "\n",
        "1. Set up the null and alternative hypotheses:\n",
        "   - Null Hypothesis (\\(H_0\\)): The variances of the test scores in both groups are equal (\\(\\sigma_A^2 = \\sigma_B^2\\)).\n",
        "   - Alternative Hypothesis (\\(H_1\\)): The variances of the test scores in the two groups are not equal (\\(\\sigma_A^2 \\neq \\sigma_B^2\\)).\n",
        "\n",
        "2. Determine the significance level (\\(\\alpha\\)) for the test. In this case, it's 0.01 (1% significance level).\n",
        "\n",
        "3. Calculate the F-statistic using the formula:\n",
        "\n",
        "   \\[\n",
        "   F = \\frac{{\\text{Sample Variance of Group A}}}{{\\text{Sample Variance of Group B}}}\n",
        "   \\]\n",
        "\n",
        "4. Determine the degrees of freedom for both samples:\n",
        "   - Degrees of Freedom for Group A (\\(df_1\\)) = Sample Size for Group A - 1 = 6 - 1 = 5\n",
        "   - Degrees of Freedom for Group B (\\(df_2\\)) = Sample Size for Group B - 1 = 6 - 1 = 5\n",
        "\n",
        "5. Use the F-distribution tables or a statistical calculator to find the critical F-value for a two-tailed test at the 1% significance level with \\(df_1\\) and \\(df_2\\) degrees of freedom.\n",
        "\n",
        "6. Compare the calculated F-statistic to the critical F-value:\n",
        "   - If the calculated F-statistic is greater than the critical F-value or less than its reciprocal (due to the two-tailed nature of the test), reject the null hypothesis (\\(H_0\\)).\n",
        "   - If the calculated F-statistic falls within the critical region, it suggests that the variances are not significantly different.\n",
        "\n",
        "Let's calculate the F-statistic and perform the F-test:\n",
        "\n",
        "```python\n",
        "import scipy.stats as stats\n",
        "\n",
        "# Test scores data\n",
        "scores_group_a = [80, 85, 90, 92, 87, 83]\n",
        "scores_group_b = [75, 78, 82, 79, 81, 84]\n",
        "\n",
        "# Calculate the sample variances\n",
        "sample_variance_group_a = sum([(x - sum(scores_group_a) / len(scores_group_a))**2 for x in scores_group_a]) / (len(scores_group_a) - 1)\n",
        "sample_variance_group_b = sum([(x - sum(scores_group_b) / len(scores_group_b))**2 for x in scores_group_b]) / (len(scores_group_b) - 1)\n",
        "\n",
        "# Calculate the F-statistic\n",
        "f_statistic = sample_variance_group_a / sample_variance_group_b\n",
        "\n",
        "# Degrees of freedom\n",
        "df1 = len(scores_group_a) - 1\n",
        "df2 = len(scores_group_b) - 1\n",
        "\n",
        "# Significance level\n",
        "alpha = 0.01\n",
        "\n",
        "# Find the critical F-value for a two-tailed test\n",
        "critical_f_value = stats.f.ppf(1 - alpha/2, df1, df2)\n",
        "\n",
        "# Perform the F-test\n",
        "if f_statistic > critical_f_value or f_statistic < 1/critical_f_value:\n",
        "    print(\"Reject the null hypothesis: The variances are not significantly different.\")\n",
        "else:\n",
        "    print(\"Fail to reject the null hypothesis: The variances are significantly different.\")\n",
        "```\n",
        "\n",
        "In this code:\n",
        "\n",
        "- We calculate the sample variances for both groups.\n",
        "- We determine the degrees of freedom for both samples and the significance level (\\(\\alpha\\)).\n",
        "- We find the critical F-value for a two-tailed test at the 1% significance level.\n",
        "- We compare the calculated F-statistic to the critical F-value and make a decision regarding the null hypothesis.\n",
        "\n",
        "If the calculated F-statistic is outside the critical region, we reject the null hypothesis, indicating that the variances are not significantly different. If it falls within the critical region, we fail to reject the null hypothesis, suggesting that the variances are significantly different."
      ],
      "metadata": {
        "id": "mBXjLelTOB2A"
      }
    },
    {
      "cell_type": "code",
      "source": [],
      "metadata": {
        "id": "_lQoaFJcODox"
      },
      "execution_count": null,
      "outputs": []
    }
  ]
}