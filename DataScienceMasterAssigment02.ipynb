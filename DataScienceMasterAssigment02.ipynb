{
  "nbformat": 4,
  "nbformat_minor": 0,
  "metadata": {
    "colab": {
      "provenance": [],
      "toc_visible": true
    },
    "kernelspec": {
      "name": "python3",
      "display_name": "Python 3"
    },
    "language_info": {
      "name": "python"
    }
  },
  "cells": [
    {
      "cell_type": "markdown",
      "source": [
        "\n",
        "\n",
        "**#DataScienceMaster Assigment By Kuldeep rajak**\n",
        "\n",
        "\n",
        "\n",
        "\n",
        "\n"
      ],
      "metadata": {
        "id": "zFE885u71smW"
      }
    },
    {
      "cell_type": "markdown",
      "source": [
        "Q1. How do you comment code in Python? What are the different types of comments?"
      ],
      "metadata": {
        "id": "ru2PlJFi2CT1"
      }
    },
    {
      "cell_type": "markdown",
      "source": [
        "Ans- \n",
        " In python we can commint a code using # so word words or a code will not execute .\n",
        " Types-\n",
        " There are two most comman commints are single line commint and multi line commints \n",
        " \n",
        "\n",
        "*   Single line commints are use to commint code using #\n",
        "*   Multi line commint used to commint code using (\"\"\" xyz \"\"\" or ''' xyz  ''')\n",
        "\n"
      ],
      "metadata": {
        "id": "XJZgG_gy2TOM"
      }
    },
    {
      "cell_type": "code",
      "execution_count": null,
      "metadata": {
        "id": "KTcJepYg1rY4"
      },
      "outputs": [],
      "source": [
        "#Single line commints \n",
        "#ex- \n",
        "#This is single line commint \n",
        "#x = 20\n",
        "# print(x)\n",
        " \n",
        "\n",
        "''''Multi line commint \n",
        "This is a multi line commint \n",
        "x = 20 \n",
        "y = 29 \n",
        "z = x - y \n",
        "print(z)\n",
        "\n",
        "'''\n",
        "\n"
      ]
    },
    {
      "cell_type": "markdown",
      "source": [
        "Q2. What are variables in Python? How do you declare and assign values to variables?\n"
      ],
      "metadata": {
        "id": "P5qQWXiD4hCZ"
      }
    },
    {
      "cell_type": "markdown",
      "source": [
        "Ans - \n",
        "  Variables in python is like a continer which contain the values in python we do't need to intitialize it with data type like other programming language.\n",
        "\n",
        "*   When initializing variables in Python, there are a few rules and conventions to keep in mind:\n",
        "\n",
        "* 1. Variable Names: Choose meaningful and descriptive names for your variables to improve code readability. Variable names can consist of letters (a-z, A-Z), digits (0-9), and underscores (_). They should start with a letter or an underscore but cannot start with a digit. Python is case-sensitive, so 'myVariable' and 'myvariable' would be treated as two different variables.\n",
        "\n",
        "* 2. Avoid Reserved Words: Do not use reserved words or keywords as variable names since they have predefined meanings in Python. For example, you cannot use if, while, for, def, class, or import as variable names.\n",
        "\n",
        "* 3. Initialization: It is not mandatory to initialize variables at the time of declaration. However, it's good practice to initialize variables with an initial value to avoid potential errors or confusion. Uninitialized variables will have a default value of None until assigned a value.\n",
        "\n",
        "* 4. Dynamic Typing: Python is dynamically typed, meaning you can assign values of different types to the same variable. You don't need to explicitly declare the type of a variable, as Python determines it based on the assigned value. For example, x = 5 will create an integer variable, while x = \"Hello\" will create a string variable.\n",
        "\n",
        "* 5. Constants: In Python, there is no strict concept of constants. However, it is conventionally followed to use uppercase names to indicate that a variable's value should not be changed. Although the value can still be modified, it signals to other developers that it is intended to be constant. For example, PI = 3.14159.\n",
        "\n",
        "* 6. Reassignment: You can assign a new value to an existing variable at any point in your code. Python allows variables to be reassigned with values of different types. For example, you can assign an integer value initially and later assign it a string value.\n",
        "\n",
        "* 7. Scope: Variables have a scope, which defines where they can be accessed. Variables declared within a function have local scope and are only accessible within that function. Variables declared outside any function, at the module level, have global scope and can be accessed throughout the module.\n",
        "\n",
        "\n"
      ],
      "metadata": {
        "id": "Q6rH84in4n5a"
      }
    },
    {
      "cell_type": "code",
      "source": [
        "# we can declare and assign values to variables like this \n",
        "#Ex-\n",
        "age = 20 \n",
        "name = 'kuldeep rajak'\n",
        "print('My name is ', name ,'and my age is ',age)"
      ],
      "metadata": {
        "colab": {
          "base_uri": "https://localhost:8080/"
        },
        "id": "aXCwlzzO5M1g",
        "outputId": "cc37dd00-64b0-4c87-e6f8-cfd7372f6b7c"
      },
      "execution_count": 1,
      "outputs": [
        {
          "output_type": "stream",
          "name": "stdout",
          "text": [
            "My name is  kuldeep rajak and my age is  20\n"
          ]
        }
      ]
    },
    {
      "cell_type": "markdown",
      "source": [
        "Q3. How do you convert one data type to another in Python?"
      ],
      "metadata": {
        "id": "xA3euxdJ7wLW"
      }
    },
    {
      "cell_type": "markdown",
      "source": [
        "Ans - We can convert one data type into another \n",
        "like this "
      ],
      "metadata": {
        "id": "TWw7lgwO7xU1"
      }
    },
    {
      "cell_type": "code",
      "source": [
        "#Ex-\n",
        "age = 20 \n",
        "print(type(age))\n",
        "age = str(age)\n",
        "print(type(age))"
      ],
      "metadata": {
        "colab": {
          "base_uri": "https://localhost:8080/"
        },
        "id": "WEuo43CQ7h0Q",
        "outputId": "98010aba-2eb8-4fc0-ac70-d1cb242d9bee"
      },
      "execution_count": 5,
      "outputs": [
        {
          "output_type": "stream",
          "name": "stdout",
          "text": [
            "<class 'int'>\n",
            "<class 'str'>\n"
          ]
        }
      ]
    },
    {
      "cell_type": "markdown",
      "source": [
        "Q4. How do you write and execute a Python script from the command line?"
      ],
      "metadata": {
        "id": "AA2eR7uu8hNC"
      }
    },
    {
      "cell_type": "markdown",
      "source": [
        "Ans- We will first creat a file in our device and then write a code then we save it .\n",
        "* Then we open a terminal or command line and type 'python3 file_name.py' and execute it if the directory of that file is diffrent so we can change the directory using \"cd \" command ."
      ],
      "metadata": {
        "id": "4rbf_QEg9jDi"
      }
    },
    {
      "cell_type": "markdown",
      "source": [
        "Q5. Given a list my_list = [1, 2, 3, 4, 5], write the code to slice the list and obtain the sub-list [2, 3]."
      ],
      "metadata": {
        "id": "bev6hAzv-h8T"
      }
    },
    {
      "cell_type": "code",
      "source": [
        "#Ex- \n",
        "my_list = [1, 2, 3, 4, 5]\n",
        "print(my_list[1:3])"
      ],
      "metadata": {
        "colab": {
          "base_uri": "https://localhost:8080/"
        },
        "id": "qtO90coy8Mk-",
        "outputId": "1ad4d7cc-128d-4df1-9265-7eae60bc2187"
      },
      "execution_count": 6,
      "outputs": [
        {
          "output_type": "stream",
          "name": "stdout",
          "text": [
            "[2, 3]\n"
          ]
        }
      ]
    },
    {
      "cell_type": "markdown",
      "source": [
        "Q6. What is a complex number in mathematics, and how is it represented in Python?"
      ],
      "metadata": {
        "id": "IAZnj07__a1p"
      }
    },
    {
      "cell_type": "markdown",
      "source": [
        "Ans-In maths complex number contain both real part and imagenary part , which is expresed as a +bi , a is the real part and b is the imagenary part \n",
        "* n Python, complex numbers are supported as a built-in numeric data type. They are represented using the complex class, and the imaginary part is denoted by appending a \"j\" or \"J\" to the number. The real and imaginary parts can be integers, floating-point numbers, or expressions that evaluate to numbers."
      ],
      "metadata": {
        "id": "CawyarU5_cbu"
      }
    },
    {
      "cell_type": "code",
      "source": [
        "#in python complex number \n",
        "complexnum = 2 + 4j\n",
        "print(type(complexnum))"
      ],
      "metadata": {
        "colab": {
          "base_uri": "https://localhost:8080/"
        },
        "id": "EKhHRxSK-33u",
        "outputId": "6ed64c45-5604-4a98-bc02-fa1012a4b5bd"
      },
      "execution_count": 1,
      "outputs": [
        {
          "output_type": "stream",
          "name": "stdout",
          "text": [
            "<class 'complex'>\n"
          ]
        }
      ]
    },
    {
      "cell_type": "markdown",
      "source": [
        "Q7. What is the correct way to declare a variable named age and assign the value 25 to it?"
      ],
      "metadata": {
        "id": "m--mlvg_cLDS"
      }
    },
    {
      "cell_type": "markdown",
      "source": [
        "Ans - It can be represent as "
      ],
      "metadata": {
        "id": "tpFiWDLncMPH"
      }
    },
    {
      "cell_type": "code",
      "source": [
        "age = 25\n",
        "print(age)\n",
        "print(type(age))"
      ],
      "metadata": {
        "colab": {
          "base_uri": "https://localhost:8080/"
        },
        "id": "jOYmhVNHb_VQ",
        "outputId": "2c93ab6c-b9e0-48c0-ab55-7df3201b2771"
      },
      "execution_count": 4,
      "outputs": [
        {
          "output_type": "stream",
          "name": "stdout",
          "text": [
            "25\n",
            "<class 'int'>\n"
          ]
        }
      ]
    },
    {
      "cell_type": "markdown",
      "source": [
        "Q8. Declare a variable named price and assign the value 9.99 to it. What data type does this variable\n",
        "belong to?"
      ],
      "metadata": {
        "id": "EJYL155Tckqt"
      }
    },
    {
      "cell_type": "code",
      "source": [
        "#Ans -\n",
        "price = 9.99\n",
        "print(price)\n",
        "print(type(price))"
      ],
      "metadata": {
        "colab": {
          "base_uri": "https://localhost:8080/"
        },
        "id": "H-t6xZpTcYm1",
        "outputId": "c88daa2f-564a-40d2-db44-50fd5e00f540"
      },
      "execution_count": 5,
      "outputs": [
        {
          "output_type": "stream",
          "name": "stdout",
          "text": [
            "9.99\n",
            "<class 'float'>\n"
          ]
        }
      ]
    },
    {
      "cell_type": "markdown",
      "source": [
        "This variable does belong to float data type"
      ],
      "metadata": {
        "id": "W3zCv4Y8c4Z7"
      }
    },
    {
      "cell_type": "markdown",
      "source": [
        "Q9. Create a variable named name and assign your full name to it as a string. How would you print the\n",
        "value of this variable?"
      ],
      "metadata": {
        "id": "z8FmOEs_dmYr"
      }
    },
    {
      "cell_type": "code",
      "source": [
        "name = 'kuldeep rajak'\n",
        "print(name)"
      ],
      "metadata": {
        "colab": {
          "base_uri": "https://localhost:8080/"
        },
        "id": "0TEeLSBQc228",
        "outputId": "e6c30985-aded-4c9f-e2be-246bfb7b17fe"
      },
      "execution_count": 6,
      "outputs": [
        {
          "output_type": "stream",
          "name": "stdout",
          "text": [
            "kuldeep rajak\n"
          ]
        }
      ]
    },
    {
      "cell_type": "markdown",
      "source": [
        "Q10. Given the string \"Hello, World!\", extract the substring \"World\"."
      ],
      "metadata": {
        "id": "ylvJ6mWLdzVL"
      }
    },
    {
      "cell_type": "code",
      "source": [
        "string = \"Hello, World!\"\n",
        "print(string[7:12])"
      ],
      "metadata": {
        "colab": {
          "base_uri": "https://localhost:8080/"
        },
        "id": "66zHCL2Fdv6s",
        "outputId": "a61d46b8-0ebe-48c3-a42f-73c962023aa6"
      },
      "execution_count": 7,
      "outputs": [
        {
          "output_type": "stream",
          "name": "stdout",
          "text": [
            "World\n"
          ]
        }
      ]
    },
    {
      "cell_type": "markdown",
      "source": [
        "Q11. Create a variable named \"is_student\" and assign it a boolean value indicating whether you are\n",
        "currently a student or not."
      ],
      "metadata": {
        "id": "sUtTuZRseZOQ"
      }
    },
    {
      "cell_type": "code",
      "source": [
        "is_student = True \n",
        "print(is_student)\n",
        "# or a small code to ask user whather he/ she is a student or not \n",
        "is_student = input('''Please type True if you are a student and \n",
        "type False if you are not a student''')\n",
        "\n",
        "if is_student == True :\n",
        "  print('You are a student ')\n",
        "else:\n",
        "  print('You are not a student ')"
      ],
      "metadata": {
        "colab": {
          "base_uri": "https://localhost:8080/"
        },
        "id": "LcXdFUqveadX",
        "outputId": "f4c0427f-b9ad-4754-ec32-83187959505e"
      },
      "execution_count": 10,
      "outputs": [
        {
          "output_type": "stream",
          "name": "stdout",
          "text": [
            "True\n",
            "Please type True if you are a student and \n",
            "type False if you are not a studentFalse\n",
            "You are not a student \n"
          ]
        }
      ]
    },
    {
      "cell_type": "code",
      "source": [],
      "metadata": {
        "id": "EFshYKV5fDs8"
      },
      "execution_count": null,
      "outputs": []
    }
  ]
}