{
  "nbformat": 4,
  "nbformat_minor": 0,
  "metadata": {
    "colab": {
      "provenance": []
    },
    "kernelspec": {
      "name": "python3",
      "display_name": "Python 3"
    },
    "language_info": {
      "name": "python"
    }
  },
  "cells": [
    {
      "cell_type": "markdown",
      "source": [
        "## Q1 What is multithreading in python? Why is it used? Name the module used to handle threads in python"
      ],
      "metadata": {
        "id": "xwuoZnI7d07o"
      }
    },
    {
      "cell_type": "markdown",
      "source": [
        "Multithreading in Python refers to the concurrent execution of multiple threads within a single process. A thread is a lightweight unit of execution that enables a program to perform multiple tasks simultaneously. Multithreading allows different parts of a program to run concurrently and utilize the available CPU resources efficiently.\n",
        "\n",
        "Multithreading is used in Python for the following reasons:\n",
        "\n",
        "1. **Concurrency:** Multithreading enables concurrent execution of tasks, allowing programs to perform multiple operations simultaneously. This is beneficial for tasks that can be executed independently and do not rely on each other's results.\n",
        "\n",
        "2. **Responsive User Interfaces:** Multithreading is often used in graphical user interface (GUI) applications to keep the user interface responsive while performing background tasks. By running time-consuming operations in separate threads, the main thread (which handles the GUI) remains free to respond to user input.\n",
        "\n",
        "3. **Parallelism:** Multithreading can be used to achieve parallelism by running computationally intensive tasks concurrently across multiple CPU cores. This can lead to significant performance improvements, especially in tasks that can be parallelized.\n",
        "\n",
        "The module used to handle threads in Python is called threading. It provides a high-level interface for creating and managing threads in Python. The threading module allows you to create new threads, control their execution, and synchronize their operations. It provides features like thread creation, starting and stopping threads, thread synchronization, and communication between threads.\n",
        "\n",
        "To use the threading module, you need to import it in your Python script:\n",
        "\n",
        "```python\n",
        "import threading\n",
        "```\n",
        "\n",
        "Once imported, you can create and manage threads using the classes and functions provided by the threading module."
      ],
      "metadata": {
        "id": "xqg5hUQAdy_I"
      }
    },
    {
      "cell_type": "markdown",
      "source": [
        "## Q 2 Why threading module used? rite the use of the following functions:\n",
        " ## activeCount\n",
        " ##  currentThread\n",
        " ##  enumerate"
      ],
      "metadata": {
        "id": "WRSEX3kaeUgc"
      }
    },
    {
      "cell_type": "markdown",
      "source": [
        "The threading module in Python is used for creating and managing threads. It provides a high-level interface and several functions and classes to work with threads. Here's why the threading module is used:\n",
        "\n",
        "1. Thread Creation: The threading module allows you to create new threads by creating instances of the Thread class. You can define a target function that represents the task to be performed in the new thread and create multiple threads to perform concurrent operations.\n",
        "\n",
        "2. Thread Synchronization: The threading module provides synchronization primitives such as locks, semaphores, conditions, and event objects. These primitives help in coordinating the execution of multiple threads, preventing race conditions, and ensuring thread safety when accessing shared resources.\n",
        "\n",
        "3. Thread Control: The threading module offers various functions to control the execution of threads. You can start and stop threads, set thread names, set thread daemon status, and control thread priorities.\n",
        "\n",
        "4. Thread Communication: The threading module provides mechanisms for communication between threads. You can use shared data structures like Queue or Pipe to pass data between threads, allowing them to exchange information and collaborate on a task."
      ],
      "metadata": {
        "id": "jHKXBj5yfpXt"
      }
    },
    {
      "cell_type": "markdown",
      "source": [
        "Now let's discuss the use of the following functions in the threading module:\n",
        "\n",
        "activeCount(): This function returns the number of currently active threads in the program, including the main thread. It can be useful to monitor the number of active threads or to check if any threads are still running.\n",
        "\n",
        "Example:"
      ],
      "metadata": {
        "id": "lypMqFdrfuC3"
      }
    },
    {
      "cell_type": "code",
      "execution_count": 1,
      "metadata": {
        "colab": {
          "base_uri": "https://localhost:8080/"
        },
        "id": "mNa9n8R6dmL3",
        "outputId": "cf24e924-3d76-4490-ccd8-df854ef2855d"
      },
      "outputs": [
        {
          "output_type": "stream",
          "name": "stdout",
          "text": [
            "Executing task...\n",
            "Executing task...\n",
            "Executing task...\n",
            "Executing task...\n",
            "Executing task...Active Threads: 6\n"
          ]
        },
        {
          "output_type": "stream",
          "name": "stderr",
          "text": [
            "<ipython-input-1-2962ed1f806d>:14: DeprecationWarning: activeCount() is deprecated, use active_count() instead\n",
            "  active_threads = threading.activeCount()\n"
          ]
        },
        {
          "output_type": "stream",
          "name": "stdout",
          "text": [
            "\n"
          ]
        }
      ],
      "source": [
        "import threading\n",
        "\n",
        "def my_task():\n",
        "    print(\"Executing task...\")\n",
        "\n",
        "# Create and start multiple threads\n",
        "threads = []\n",
        "for i in range(5):\n",
        "    t = threading.Thread(target=my_task)\n",
        "    t.start()\n",
        "    threads.append(t)\n",
        "\n",
        "# Get the number of active threads\n",
        "active_threads = threading.activeCount()\n",
        "print(\"Active Threads:\", active_threads)\n"
      ]
    },
    {
      "cell_type": "markdown",
      "source": [
        "currentThread(): This function returns a reference to the current thread object. It can be used to access properties and methods of the currently executing thread, such as its name or identification number.\n",
        "\n",
        "Example:"
      ],
      "metadata": {
        "id": "cA_IxhCKf078"
      }
    },
    {
      "cell_type": "code",
      "source": [
        "import threading\n",
        "\n",
        "def my_task():\n",
        "    current_thread = threading.currentThread()\n",
        "    print(\"Current Thread:\", current_thread.getName())\n",
        "\n",
        "# Create and start a thread\n",
        "t = threading.Thread(target=my_task)\n",
        "t.start()\n"
      ],
      "metadata": {
        "id": "0V09Wj8-fxJJ"
      },
      "execution_count": null,
      "outputs": []
    },
    {
      "cell_type": "markdown",
      "source": [
        "enumerate(): This function returns a list of all currently active Thread objects. It can be used to iterate over all active threads and perform operations or retrieve information about each thread.\n",
        "\n",
        "Example:"
      ],
      "metadata": {
        "id": "Yo_Kmfiuf60b"
      }
    },
    {
      "cell_type": "code",
      "source": [
        "import threading\n",
        "\n",
        "def my_task():\n",
        "    print(\"Executing task...\")\n",
        "\n",
        "# Create and start multiple threads\n",
        "threads = []\n",
        "for i in range(3):\n",
        "    t = threading.Thread(target=my_task)\n",
        "    t.start()\n",
        "    threads.append(t)\n",
        "\n",
        "# Enumerate all active threads\n",
        "active_threads = threading.enumerate()\n",
        "for thread in active_threads:\n",
        "    print(\"Thread Name:\", thread.getName())\n"
      ],
      "metadata": {
        "colab": {
          "base_uri": "https://localhost:8080/"
        },
        "id": "cxWyOhfgf9V8",
        "outputId": "6f4c3a3f-e2e0-40c6-e071-fa2f9a0c21a4"
      },
      "execution_count": 2,
      "outputs": [
        {
          "output_type": "stream",
          "name": "stdout",
          "text": [
            "Executing task...\n",
            "Executing task...\n",
            "Executing task...Thread Name: MainThread\n",
            "Thread Name: Thread-2 (_thread_main)\n",
            "Thread Name: Thread-3\n",
            "Thread Name: Thread-1\n",
            "Thread Name: _colab_inspector_thread\n",
            "Thread Name: Thread-17 (my_task)\n"
          ]
        },
        {
          "output_type": "stream",
          "name": "stderr",
          "text": [
            "<ipython-input-2-8ee8c82cac3b>:16: DeprecationWarning: getName() is deprecated, get the name attribute instead\n",
            "  print(\"Thread Name:\", thread.getName())\n"
          ]
        },
        {
          "output_type": "stream",
          "name": "stdout",
          "text": [
            "\n"
          ]
        }
      ]
    },
    {
      "cell_type": "markdown",
      "source": [
        "## 3. Explain the following functions\n",
        "( run\n",
        " start\n",
        " join\n",
        "' isAlive)"
      ],
      "metadata": {
        "id": "hBm6JRvFgqGz"
      }
    },
    {
      "cell_type": "markdown",
      "source": [
        "The run, start, join, and isAlive are important functions/methods in the threading module for working with threads in Python. Here's an explanation of each function:\n",
        "\n",
        "run(): The run() method is a key method that represents the target function or activity to be performed by the thread. You need to override this method in a custom thread class or provide a target function when creating a thread. When the thread is started, the run() method is executed in a separate thread.\n",
        "\n",
        "Example:"
      ],
      "metadata": {
        "id": "YVJMiUwkguQ8"
      }
    },
    {
      "cell_type": "code",
      "source": [
        "import threading\n",
        "\n",
        "class MyThread(threading.Thread):\n",
        "    def run(self):\n",
        "        print(\"Thread is executing.\")\n",
        "\n",
        "# Create and start a thread\n",
        "t = MyThread()\n",
        "t.start()\n"
      ],
      "metadata": {
        "colab": {
          "base_uri": "https://localhost:8080/"
        },
        "id": "FlUWjoNGf9zT",
        "outputId": "b1dcda13-5590-4ea8-d42c-3032c0ec5179"
      },
      "execution_count": 3,
      "outputs": [
        {
          "output_type": "stream",
          "name": "stdout",
          "text": [
            "Thread is executing.\n"
          ]
        }
      ]
    },
    {
      "cell_type": "markdown",
      "source": [
        "start(): The start() method is used to start the execution of a thread. It initializes and launches the thread, calling the run() method internally. Once the start() method is called, the thread begins its execution in parallel with other threads.\n",
        "\n",
        "Example:\n"
      ],
      "metadata": {
        "id": "DpTJroOqg00a"
      }
    },
    {
      "cell_type": "code",
      "source": [
        "import threading\n",
        "\n",
        "def my_task():\n",
        "    print(\"Thread is executing.\")\n",
        "\n",
        "# Create and start a thread\n",
        "t = threading.Thread(target=my_task)\n",
        "t.start()\n"
      ],
      "metadata": {
        "colab": {
          "base_uri": "https://localhost:8080/"
        },
        "id": "Af8RVIL4gxxj",
        "outputId": "cc0b4094-92c9-455c-83c1-92ef2b81a2ac"
      },
      "execution_count": 4,
      "outputs": [
        {
          "output_type": "stream",
          "name": "stdout",
          "text": [
            "Thread is executing.\n"
          ]
        }
      ]
    },
    {
      "cell_type": "markdown",
      "source": [
        "join(): The join() method is used to wait for a thread to complete its execution. When a thread's join() method is called, the calling thread (usually the main thread) waits until the target thread finishes executing. It allows for synchronization, ensuring that the calling thread does not proceed before the target thread has completed.\n",
        "\n",
        "Example:"
      ],
      "metadata": {
        "id": "fQFZQRi_g6om"
      }
    },
    {
      "cell_type": "code",
      "source": [
        "import threading\n",
        "\n",
        "def my_task():\n",
        "    print(\"Thread is executing.\")\n",
        "\n",
        "# Create and start a thread\n",
        "t = threading.Thread(target=my_task)\n",
        "t.start()\n",
        "\n",
        "# Wait for the thread to finish\n",
        "t.join()\n",
        "print(\"Thread has finished.\")\n"
      ],
      "metadata": {
        "colab": {
          "base_uri": "https://localhost:8080/"
        },
        "id": "uP9FnZyhg3lK",
        "outputId": "b9e66c17-f84f-4ffd-bf26-2c932ed0d3d3"
      },
      "execution_count": 5,
      "outputs": [
        {
          "output_type": "stream",
          "name": "stdout",
          "text": [
            "Thread is executing.\n",
            "Thread has finished.\n"
          ]
        }
      ]
    },
    {
      "cell_type": "markdown",
      "source": [
        "isAlive(): The isAlive() method is used to check if a thread is currently active or alive. It returns True if the thread is still running, and False otherwise. This method is commonly used to check the status of a thread and perform actions based on its current state.\n",
        "\n",
        "Example:"
      ],
      "metadata": {
        "id": "dHX1A6eDg-xZ"
      }
    },
    {
      "cell_type": "code",
      "source": [
        "import threading\n",
        "import time\n",
        "\n",
        "def my_task():\n",
        "    time.sleep(3)  # Simulating a long-running task\n",
        "    print(\"Thread has finished.\")\n",
        "\n",
        "# Create and start a thread\n",
        "t = threading.Thread(target=my_task)\n",
        "t.start()\n",
        "\n",
        "# Check if the thread is still alive\n",
        "if t.isAlive():\n",
        "    print(\"Thread is still running.\")\n",
        "else:\n",
        "    print(\"Thread has finished.\")\n"
      ],
      "metadata": {
        "id": "xUhgo3HOg9vw"
      },
      "execution_count": 7,
      "outputs": []
    },
    {
      "cell_type": "markdown",
      "source": [
        "## Q4. write a python program to create two threads. Thread one must print the list of squares and thread two must print the list of cubes"
      ],
      "metadata": {
        "id": "8RTPz17QhlkS"
      }
    },
    {
      "cell_type": "code",
      "source": [
        "import threading\n",
        "\n",
        "def print_squares():\n",
        "    for i in range(1, 11):\n",
        "        print(f\"Square of {i}: {i**2}\")\n",
        "\n",
        "def print_cubes():\n",
        "    for i in range(1, 11):\n",
        "        print(f\"Cube of {i}: {i**3}\")\n",
        "\n",
        "# Create the first thread for squares\n",
        "thread1 = threading.Thread(target=print_squares)\n",
        "\n",
        "# Create the second thread for cubes\n",
        "thread2 = threading.Thread(target=print_cubes)\n",
        "\n",
        "# Start both threads\n",
        "thread1.start()\n",
        "thread2.start()\n",
        "\n",
        "# Wait for both threads to finish\n",
        "thread1.join()\n",
        "thread2.join()\n",
        "\n",
        "print(\"Program execution finished.\")\n"
      ],
      "metadata": {
        "id": "i57KH1jWhKTV"
      },
      "execution_count": null,
      "outputs": []
    },
    {
      "cell_type": "markdown",
      "source": [
        "## Q5. State advantages and disadvantages of multithreading"
      ],
      "metadata": {
        "id": "6PGBADYRh6yE"
      }
    },
    {
      "cell_type": "markdown",
      "source": [
        "Multithreading in programming has several advantages and disadvantages. Let's explore them:\n",
        "\n",
        "Advantages of Multithreading:\n",
        "\n",
        "1. **Concurrency and Responsiveness:** Multithreading allows multiple tasks to execute concurrently, improving the responsiveness of an application. It enables performing multiple operations simultaneously, such as background tasks while keeping the user interface responsive.\n",
        "\n",
        "2. **Utilization of Multiple CPU Cores:** Multithreading can leverage multiple CPU cores, enabling parallel execution of computationally intensive tasks. This can lead to improved performance and faster execution times, particularly for tasks that can be divided and executed independently.\n",
        "\n",
        "3. **Efficient Resource Utilization:** By using threads, applications can efficiently utilize system resources. Threads are lightweight and have a smaller memory footprint compared to spawning multiple processes. It allows better resource sharing and avoids the overhead of process creation and communication.\n",
        "\n",
        "4. **Improved Throughput:** Multithreading can enhance the overall throughput of an application. By executing multiple threads concurrently, it can process more tasks or requests in a given timeframe, improving overall efficiency.\n",
        "\n",
        "5. **Simplified Program Structure:** Using threads can simplify the structure of a program. It allows developers to separate different tasks into separate threads, making the code more modular and easier to understand, maintain, and debug.\n",
        "\n",
        "Disadvantages of Multithreading:\n",
        "\n",
        "1. **Complexity of Synchronization:** Multithreading introduces the challenge of managing shared resources and synchronizing access to them. Proper synchronization mechanisms, such as locks, semaphores, or mutexes, need to be implemented to prevent data races, race conditions, and other synchronization-related issues.\n",
        "\n",
        "2. **Increased Complexity and Debugging Difficulty:** Multithreaded programs can be more complex than single-threaded programs. Coordinating and debugging multiple threads can be challenging, as the order of thread execution and potential race conditions can lead to subtle and hard-to-find bugs.\n",
        "\n",
        "3. **Potential Deadlocks and Starvation:** Incorrectly implemented synchronization can lead to deadlocks, where threads are blocked indefinitely, waiting for resources that are held by other threads. Additionally, poor thread scheduling can cause thread starvation, where certain threads do not get sufficient CPU time, leading to performance degradation.\n",
        "\n",
        "4. **Increased Memory Usage:** Each thread requires its own stack space to store variables and function call information. Creating a large number of threads can consume a significant amount of memory, potentially impacting the overall performance and scalability of the application.\n",
        "\n",
        "5. **Limited Global State Access:** Multithreading requires careful management of shared data. Direct access to global variables or shared data can introduce unexpected behavior or data corruption if not properly synchronized or protected.\n",
        "\n"
      ],
      "metadata": {
        "id": "pOO0fYdKiFWp"
      }
    },
    {
      "cell_type": "markdown",
      "source": [
        "## Q6. Explain deadlocks and race conditions."
      ],
      "metadata": {
        "id": "M88fu-mgjWp5"
      }
    },
    {
      "cell_type": "markdown",
      "source": [
        "**Deadlock:**\n",
        "A deadlock is a situation in concurrent programming where two or more threads or processes are blocked indefinitely, waiting for each other to release resources that they hold. Deadlocks occur when the following conditions hold true:\n",
        "\n",
        "1. Mutual Exclusion: At least one resource must be held in a non-shareable mode, meaning only one thread/process can access it at a time.\n",
        "2. Hold and Wait: A thread/process holds one resource while waiting to acquire another resource.\n",
        "3. No Preemption: Resources cannot be forcibly taken away from a thread/process; they can only be released voluntarily.\n",
        "4. Circular Wait: There exists a circular chain of two or more threads/processes, where each is waiting for a resource held by the next thread/process in the chain.\n",
        "\n",
        "When a deadlock occurs, the threads/processes involved cannot make any progress, and the only way to resolve the deadlock is to terminate one or more of the threads/processes.\n",
        "\n",
        "**Race Condition:**\n",
        "A race condition occurs in concurrent programming when the behavior of a program depends on the relative timing or interleaving of multiple threads or processes accessing shared resources or performing operations in an unpredictable order. It arises when the correctness of the program depends not only on the logical order of operations but also on the specific timing or scheduling of those operations.\n",
        "\n",
        "Race conditions occur due to the lack of proper synchronization or coordination among threads/processes accessing shared resources. They can lead to unexpected and erroneous results, data corruption, or program crashes. Race conditions are challenging to reproduce and debug because they are timing-dependent and can vary with different execution environments or system loads.\n",
        "\n",
        "To mitigate race conditions, synchronization mechanisms such as locks, semaphores, or other thread-safe constructs should be used to ensure mutually exclusive access to shared resources. Proper synchronization ensures that critical sections of code are executed atomically or in a well-defined order, eliminating race conditions and maintaining data integrity."
      ],
      "metadata": {
        "id": "yrv2-gXvjosA"
      }
    },
    {
      "cell_type": "code",
      "source": [],
      "metadata": {
        "id": "RVT9gSySiHQr"
      },
      "execution_count": null,
      "outputs": []
    }
  ]
}