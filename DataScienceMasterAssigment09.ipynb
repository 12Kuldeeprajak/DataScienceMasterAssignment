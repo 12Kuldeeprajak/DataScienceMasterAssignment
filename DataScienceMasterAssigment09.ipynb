{
  "nbformat": 4,
  "nbformat_minor": 0,
  "metadata": {
    "colab": {
      "provenance": []
    },
    "kernelspec": {
      "name": "python3",
      "display_name": "Python 3"
    },
    "language_info": {
      "name": "python"
    }
  },
  "cells": [
    {
      "cell_type": "markdown",
      "source": [
        "#**Assignment**"
      ],
      "metadata": {
        "id": "snQRURkmXirs"
      }
    },
    {
      "cell_type": "markdown",
      "source": [
        "## This is the assignment in week 05 Files & Exceptional Handling & Memory Management"
      ],
      "metadata": {
        "id": "EE-DjsseXqO5"
      }
    },
    {
      "cell_type": "markdown",
      "source": [
        "#-----------------------------------------------------------"
      ],
      "metadata": {
        "id": "8BxkgPwAX7Vt"
      }
    },
    {
      "cell_type": "markdown",
      "source": [
        "##Q1. Explain why we have to use the Exception class while creating a Custom Exception.\n",
        "##Note: Here Exception class refers to the base class for all the exceptions."
      ],
      "metadata": {
        "id": "SWtnGdToX-z7"
      }
    },
    {
      "cell_type": "markdown",
      "source": [
        "The Exception class serves as the base class for all built-in and user-defined exceptions. When creating a custom exception, it is important to inherit from the Exception class or one of its subclasses for several reasons:\n",
        "\n",
        "1. **Consistency and Compatibility:** Inheriting from the Exception class ensures that your custom exception follows the same structure and behavior as other built-in exceptions in Python. It allows your custom exception to be compatible with existing exception handling mechanisms and conventions.\n",
        "\n",
        "2. **Exception Hierarchy:** The Exception  class is at the top of the exception hierarchy in Python. By inheriting from it, your custom exception becomes a part of this hierarchy, making it easier to organize and categorize exceptions based on their relationships and common behavior.\n",
        "\n",
        "3. **Exception Handling:** Inheriting from the Exception class allows you to handle your custom exception in a general catch-all manner by catching the Exception base class itself. It provides a consistent way to handle all exceptions, including your custom exception, in a single except block.\n",
        "\n",
        "4. **Code Clarity and Readability:** Using the Exception class as the base class for custom exceptions helps to make your code more readable and understandable for other developers. It clearly indicates that the class is intended to be an exception and follows the established exception hierarchy.\n",
        "\n",
        "Here's an example to illustrate the usage of the Exception class as the base class for a custom exception:\n",
        "\n",
        "\n",
        "\n",
        "In this example, the CustomException class is defined as a subclass of the Exception class. By inheriting from Exception CustomException gains all the properties and behaviors of the base class, including the ability to be caught by a general except block handling Exception instances.\n",
        "\n",
        "By using the Exception class as the base class for custom exceptions, you ensure that your exceptions align with established Python exception handling practices and facilitate proper integration with the language's exception hierarchy and mechanisms."
      ],
      "metadata": {
        "id": "zL1yHQLVZlru"
      }
    },
    {
      "cell_type": "code",
      "execution_count": 1,
      "metadata": {
        "colab": {
          "base_uri": "https://localhost:8080/"
        },
        "id": "VDeOBTaqXds9",
        "outputId": "d49097aa-a295-4903-d7ad-0be60506977d"
      },
      "outputs": [
        {
          "output_type": "stream",
          "name": "stdout",
          "text": [
            "Negative values are not allowed.\n"
          ]
        }
      ],
      "source": [
        "class CustomException(Exception):\n",
        "    pass\n",
        "\n",
        "def perform_operation(value):\n",
        "    if value < 0:\n",
        "        raise CustomException(\"Negative values are not allowed.\")\n",
        "    else:\n",
        "        print(\"Operation performed successfully.\")\n",
        "\n",
        "try:\n",
        "    perform_operation(-5)\n",
        "except CustomException as e:\n",
        "    print(e)"
      ]
    },
    {
      "cell_type": "markdown",
      "source": [
        "##Q2. Write a python program to print Python Exception Hierarchy."
      ],
      "metadata": {
        "id": "k8F-c9HEZLiR"
      }
    },
    {
      "cell_type": "markdown",
      "source": [
        "To print the Python Exception Hierarchy, you can make use of the sys module in Python, which provides access to some variables used or maintained by the interpreter. Here's a Python program that prints the exception hierarchy:\n",
        "\n",
        "python\n"
      ],
      "metadata": {
        "id": "WE9CkCdGao79"
      }
    },
    {
      "cell_type": "code",
      "source": [
        "import sys\n",
        "\n",
        "def print_exception_hierarchy():\n",
        "    exceptions = []\n",
        "    for name, obj in vars(sys.modules[__name__]).items():\n",
        "        if isinstance(obj, type) and issubclass(obj, BaseException):\n",
        "            exceptions.append(obj)\n",
        "\n",
        "    exceptions.sort(key=lambda x: x.__name__)\n",
        "\n",
        "    for exception in exceptions:\n",
        "        print(exception.__name__)\n",
        "        if exception.__base__ is not BaseException:\n",
        "            print_exception_tree(exception, exception.__base__, 1)\n",
        "\n",
        "def print_exception_tree(exception, base_exception, indent_level):\n",
        "    indent = \"    \" * indent_level\n",
        "    print(f\"{indent}{base_exception.__name__}\")\n",
        "    if base_exception.__base__ is not BaseException:\n",
        "        print_exception_tree(exception, base_exception.__base__, indent_level + 1)\n",
        "\n",
        "# Main program\n",
        "print(\"Python Exception Hierarchy:\")\n",
        "print(\"============================\")\n",
        "print_exception_hierarchy()\n"
      ],
      "metadata": {
        "colab": {
          "base_uri": "https://localhost:8080/"
        },
        "id": "CsrBfZuiaq8z",
        "outputId": "134831cf-840c-463b-996b-636d12098338"
      },
      "execution_count": 2,
      "outputs": [
        {
          "output_type": "stream",
          "name": "stdout",
          "text": [
            "Python Exception Hierarchy:\n",
            "============================\n",
            "CustomException\n",
            "    Exception\n"
          ]
        }
      ]
    },
    {
      "cell_type": "markdown",
      "source": [
        "## Q3. What errors are defined in the ArithmeticError class? Explain any two with an example."
      ],
      "metadata": {
        "id": "hJas24SNaYdM"
      }
    },
    {
      "cell_type": "markdown",
      "source": [
        "The ArithmeticError class is a base class for arithmetic-related exceptions in Python. It serves as a superclass for a variety of specific arithmetic exceptions. Two commonly encountered exceptions that are subclasses of ArithmeticError are ZeroDivisionError and OverflowError. Let's explore each of them with examples:\n",
        "\n",
        "1. ZeroDivisionError: This exception is raised when attempting to divide a number by zero."
      ],
      "metadata": {
        "id": "iuj_1OjVaZve"
      }
    },
    {
      "cell_type": "code",
      "source": [
        "num1 = 10\n",
        "num2 = 0\n",
        "\n",
        "try:\n",
        "    result = num1 / num2\n",
        "    print(\"Result:\", result)\n",
        "except ZeroDivisionError:\n",
        "    print(\"Error: Division by zero is not allowed.\")\n"
      ],
      "metadata": {
        "colab": {
          "base_uri": "https://localhost:8080/"
        },
        "id": "msXcKzxYayl3",
        "outputId": "8737f8f0-5d2d-4953-91fa-735c8aa1e7b8"
      },
      "execution_count": 3,
      "outputs": [
        {
          "output_type": "stream",
          "name": "stdout",
          "text": [
            "Error: Division by zero is not allowed.\n"
          ]
        }
      ]
    },
    {
      "cell_type": "markdown",
      "source": [
        "n this example, we attempt to divide num1 by num2, where num2 is zero. This triggers a ZeroDivisionError, which is caught in the except block. The error message \"Error: Division by zero is not allowed.\" is printed, indicating that division by zero is not allowed."
      ],
      "metadata": {
        "id": "QEM9vRy4a7Kk"
      }
    },
    {
      "cell_type": "markdown",
      "source": [
        "2. OverflowError: This exception is raised when the result of an arithmetic operation exceeds the maximum representable value."
      ],
      "metadata": {
        "id": "kJgBmRPCbBic"
      }
    },
    {
      "cell_type": "code",
      "source": [
        "num1 = 10**1000\n",
        "num2 = 10**1000\n",
        "\n",
        "try:\n",
        "    result = num1 * num2\n",
        "    print(\"Result:\", result)\n",
        "except OverflowError:\n",
        "    print(\"Error: Overflow occurred.\")\n"
      ],
      "metadata": {
        "id": "W6xx64vDazCi"
      },
      "execution_count": null,
      "outputs": []
    },
    {
      "cell_type": "markdown",
      "source": [
        "In this example, we multiply num1 and num2, which are both very large numbers. The result exceeds the maximum representable value, triggering an OverflowError. The exception is caught in the except block, and the error message \"Error: Overflow occurred.\" is printed"
      ],
      "metadata": {
        "id": "YaWDywIMbJJE"
      }
    },
    {
      "cell_type": "markdown",
      "source": [
        "##Q4. Why LookupError class is used? Explain with an example KeyError and IndexError."
      ],
      "metadata": {
        "id": "KbKauFonbO9k"
      }
    },
    {
      "cell_type": "markdown",
      "source": [
        "The LookupError class in Python is a base class for exceptions that are related to lookup operations. It serves as a superclass for exceptions like KeyError and IndexError.\n",
        "\n",
        "The primary purpose of the LookupError class is to handle errors that occur during indexing or lookup operations when accessing elements from sequences (such as lists or tuples) or mappings (such as dictionaries). It provides a common base for exceptions that indicate a lookup or indexing error, allowing for more specific handling of these types of errors.\n",
        "\n",
        "Here are explanations and examples of two subclasses of LookupError: KeyError and IndexError:"
      ],
      "metadata": {
        "id": "vMOvwDjpbWfm"
      }
    },
    {
      "cell_type": "markdown",
      "source": [
        "1. KeyError: This exception is raised when a dictionary key is not found."
      ],
      "metadata": {
        "id": "LeLUDS6obaRw"
      }
    },
    {
      "cell_type": "code",
      "source": [
        "my_dict = {\"apple\": \"red\", \"banana\": \"yellow\"}\n",
        "\n",
        "try:\n",
        "    value = my_dict[\"grape\"]\n",
        "    print(\"Value:\", value)\n",
        "except KeyError:\n",
        "    print(\"Error: Key not found in dictionary.\")\n"
      ],
      "metadata": {
        "colab": {
          "base_uri": "https://localhost:8080/"
        },
        "id": "sFDoMmbTbeZE",
        "outputId": "c10fc39d-5029-4d1a-e528-0b2d08ef6002"
      },
      "execution_count": 5,
      "outputs": [
        {
          "output_type": "stream",
          "name": "stdout",
          "text": [
            "Error: Key not found in dictionary.\n"
          ]
        }
      ]
    },
    {
      "cell_type": "markdown",
      "source": [
        "In this example, we attempt to access the value associated with the key \"grape\" in the dictionary my_dict. Since the key does not exist, a KeyError is raised. The exception is caught in the except block, and the error message \"Error: Key not found in dictionary.\" is printed."
      ],
      "metadata": {
        "id": "n-Pd4uZEbilF"
      }
    },
    {
      "cell_type": "markdown",
      "source": [
        "2. IndexError: This exception is raised when trying to access an index that is out of range."
      ],
      "metadata": {
        "id": "rNIw6Bm2bl2X"
      }
    },
    {
      "cell_type": "code",
      "source": [
        "my_list = [1, 2, 3]\n",
        "\n",
        "try:\n",
        "    value = my_list[3]\n",
        "    print(\"Value:\", value)\n",
        "except IndexError:\n",
        "    print(\"Error: Index out of range.\")\n"
      ],
      "metadata": {
        "colab": {
          "base_uri": "https://localhost:8080/"
        },
        "id": "WJUrR2x9boD5",
        "outputId": "3459488d-46c9-4bd9-ad6d-ed8e015f2150"
      },
      "execution_count": 4,
      "outputs": [
        {
          "output_type": "stream",
          "name": "stdout",
          "text": [
            "Error: Index out of range.\n"
          ]
        }
      ]
    },
    {
      "cell_type": "markdown",
      "source": [
        "In this example, we try to access the element at index 3 in the list my_list. However, the list has only three elements, so the index is out of range. This leads to an IndexError being raised. The exception is caught in the except block, and the error message \"Error: Index out of range.\" is printed."
      ],
      "metadata": {
        "id": "8fHCD2A9br5j"
      }
    },
    {
      "cell_type": "markdown",
      "source": [
        "## Q5. Explain ImportError. What is ModuleNotFoundError?"
      ],
      "metadata": {
        "id": "XBeWYvOCbvfT"
      }
    },
    {
      "cell_type": "markdown",
      "source": [
        "In Python, ImportError is an exception that is raised when there is a problem importing a module or when an imported module cannot be found or loaded successfully. It is a generic exception that encompasses various import-related errors.\n",
        "\n",
        "The ImportError exception can occur due to several reasons, including:\n",
        "\n",
        "Module not found: This occurs when the module being imported cannot be located or does not exist in the specified location or search path.\n",
        "\n",
        "Invalid module or package name: This happens when the name of the module or package being imported is misspelled or does not match the actual name of the module.\n",
        "\n",
        "Circular imports: This occurs when there is a circular dependency between modules, causing an import deadlock.\n",
        "\n",
        "Version incompatibility: This happens when the imported module or one of its dependencies requires a different version of a module that conflicts with the current version.\n",
        "\n",
        "Starting from Python 3.6, the ModuleNotFoundError exception was introduced as a subclass of ImportError to specifically indicate that a module could not be found during the import process. It is raised when the Python interpreter cannot locate the specified module.\n",
        "\n",
        "Here's an example to illustrate the usage of ImportError and ModuleNotFoundError:"
      ],
      "metadata": {
        "id": "UtU46iEkb_MP"
      }
    },
    {
      "cell_type": "code",
      "source": [
        "try:\n",
        "    # Import a non-existent module\n",
        "    import non_existent_module\n",
        "except ImportError:\n",
        "    print(\"ImportError: An error occurred while importing a module.\")\n",
        "\n",
        "try:\n",
        "    # Import a non-existent module\n",
        "    import non_existent_module\n",
        "except ModuleNotFoundError:\n",
        "    print(\"ModuleNotFoundError: The specified module was not found.\")\n"
      ],
      "metadata": {
        "colab": {
          "base_uri": "https://localhost:8080/"
        },
        "id": "_Z-87L4jbofX",
        "outputId": "f6e98d8b-7063-4b4c-e631-2c6e73adfab9"
      },
      "execution_count": 6,
      "outputs": [
        {
          "output_type": "stream",
          "name": "stdout",
          "text": [
            "ImportError: An error occurred while importing a module.\n",
            "ModuleNotFoundError: The specified module was not found.\n"
          ]
        }
      ]
    },
    {
      "cell_type": "markdown",
      "source": [
        "## Q6. List down some best practices for exception handling in python."
      ],
      "metadata": {
        "id": "m0rtaWovcCyy"
      }
    },
    {
      "cell_type": "markdown",
      "source": [
        "When it comes to exception handling in Python, following best practices can help you write robust and maintainable code:\n",
        "\n",
        "1. Catch specific exceptions: Catch specific exceptions rather than using a generic except block. This allows you to handle different types of exceptions differently and avoids catching unrelated exceptions accidentally.\n",
        "\n",
        "2. Use multiple except blocks: Use multiple except blocks to handle different exceptions separately. This helps in providing appropriate error handling and recovery mechanisms based on the specific exception type.\n",
        "\n",
        "3. Keep exception handling code concise: Keep the code within try and except blocks as minimal as possible. Avoid placing a large amount of code within a single try block, as it may make it harder to pinpoint the exact location where an exception occurs.\n",
        "\n",
        "4. Avoid catching and ignoring exceptions: Avoid catching exceptions without providing any meaningful error handling or logging. Ignoring exceptions can lead to hidden bugs and make troubleshooting and debugging difficult.\n",
        "\n",
        "5. Use finally block for cleanup: Use the finally block to execute cleanup code that should always run, regardless of whether an exception is raised or not. It is useful for releasing resources, closing files, or cleaning up database connections.\n",
        "\n",
        "6. Avoid unnecessary exception handling: Avoid using exceptions for flow control or normal program behavior. Exceptions should be used for exceptional conditions or error situations, not as a regular control mechanism.\n",
        "\n",
        "7. Handle exceptions at the appropriate level: Handle exceptions at the level where you can effectively handle or recover from them. Let exceptions propagate up the call stack when they cannot be appropriately handled at a particular level.\n",
        "\n",
        "8. Log exceptions: Include logging statements in your exception handling code to provide meaningful information about the exception, such as the error message, traceback, and relevant context. Logging helps in diagnosing and troubleshooting issues.\n",
        "\n",
        "9. Use custom exceptions: When appropriate, create custom exceptions to represent specific error conditions in your application. Custom exceptions can provide clear and specific error messages, making it easier to understand and handle exceptional situations.\n",
        "\n",
        "10. Test exception handling: Test your code for expected exception handling behavior. Ensure that exceptions are raised and caught correctly, and that the appropriate actions are taken in response to each exception."
      ],
      "metadata": {
        "id": "SXZ6JHWecYDD"
      }
    },
    {
      "cell_type": "code",
      "source": [],
      "metadata": {
        "id": "HKevlC5ecHTR"
      },
      "execution_count": null,
      "outputs": []
    }
  ]
}