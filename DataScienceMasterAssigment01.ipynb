{
  "nbformat": 4,
  "nbformat_minor": 0,
  "metadata": {
    "colab": {
      "provenance": [],
      "toc_visible": true
    },
    "kernelspec": {
      "name": "python3",
      "display_name": "Python 3"
    },
    "language_info": {
      "name": "python"
    }
  },
  "cells": [
    {
      "cell_type": "markdown",
      "source": [
        "#                                 ASSIGNMENT 01\n",
        "By kuldeep rajak"
      ],
      "metadata": {
        "id": "pwvewj63PVZU"
      }
    },
    {
      "cell_type": "markdown",
      "source": [
        "Q1. Create one variable containing following type of data:\n",
        "(i) string\n",
        "(ii) list\n",
        "(iii) float\n",
        "(iv) tuple"
      ],
      "metadata": {
        "id": "RGRfjZ6MPiDB"
      }
    },
    {
      "cell_type": "markdown",
      "source": [
        "(1)string"
      ],
      "metadata": {
        "id": "Uf2MoNDJPnz5"
      }
    },
    {
      "cell_type": "code",
      "source": [
        "a = 'kuldeep rajak'\n",
        "type(a)"
      ],
      "metadata": {
        "colab": {
          "base_uri": "https://localhost:8080/"
        },
        "id": "Wfjxmk15PfFk",
        "outputId": "e30c9d3f-e346-4726-95b3-de74210e0f5b"
      },
      "execution_count": null,
      "outputs": [
        {
          "output_type": "execute_result",
          "data": {
            "text/plain": [
              "str"
            ]
          },
          "metadata": {},
          "execution_count": 2
        }
      ]
    },
    {
      "cell_type": "markdown",
      "source": [
        "(ii) list"
      ],
      "metadata": {
        "id": "S9NHiRhvP10E"
      }
    },
    {
      "cell_type": "code",
      "source": [
        "l= [1,2,4,5,'This is a list',5 +6j,1.5]\n",
        "type(l)"
      ],
      "metadata": {
        "colab": {
          "base_uri": "https://localhost:8080/"
        },
        "id": "1MnDcrkMP0ZF",
        "outputId": "1c05aa00-3a40-46b5-e02a-ba3e61c3c91f"
      },
      "execution_count": null,
      "outputs": [
        {
          "output_type": "execute_result",
          "data": {
            "text/plain": [
              "list"
            ]
          },
          "metadata": {},
          "execution_count": 5
        }
      ]
    },
    {
      "cell_type": "markdown",
      "source": [
        "(iii) float"
      ],
      "metadata": {
        "id": "Xe6QTkGRQfX2"
      }
    },
    {
      "cell_type": "code",
      "source": [
        "b = 3.55\n",
        "type(b)"
      ],
      "metadata": {
        "colab": {
          "base_uri": "https://localhost:8080/"
        },
        "id": "mhjn91wqQVSq",
        "outputId": "53b32871-94d1-44a6-a088-a2aaa4bad4dd"
      },
      "execution_count": null,
      "outputs": [
        {
          "output_type": "execute_result",
          "data": {
            "text/plain": [
              "float"
            ]
          },
          "metadata": {},
          "execution_count": 8
        }
      ]
    },
    {
      "cell_type": "markdown",
      "source": [
        "(iv) tuple"
      ],
      "metadata": {
        "id": "GinE59xnRCCo"
      }
    },
    {
      "cell_type": "code",
      "source": [
        "c = (1 ,2,3,4 ,'kuldeep')\n",
        "type(c)"
      ],
      "metadata": {
        "colab": {
          "base_uri": "https://localhost:8080/"
        },
        "id": "GR4IU0b4Q4WS",
        "outputId": "d429739c-cfc4-44c7-e282-625d1975cb2b"
      },
      "execution_count": null,
      "outputs": [
        {
          "output_type": "execute_result",
          "data": {
            "text/plain": [
              "tuple"
            ]
          },
          "metadata": {},
          "execution_count": 11
        }
      ]
    },
    {
      "cell_type": "markdown",
      "source": [
        "Q2. Given are some following variables containing data:\n",
        "(i) var1 = ‘ ‘\n",
        "(ii) var2 = ‘[ DS , ML , Python]’\n",
        "(iii) var3 = [ ‘DS’ , ’ML’ , ‘Python’ ]\n",
        "(iv) var4 = 1.\n",
        "What will be the data type of the above given variable."
      ],
      "metadata": {
        "id": "mZxAPBjxcKd4"
      }
    },
    {
      "cell_type": "markdown",
      "source": [
        "(i) var1 = ‘ ‘\n"
      ],
      "metadata": {
        "id": "1Q5M3OifcQFA"
      }
    },
    {
      "cell_type": "code",
      "source": [
        "var1 = ''\n",
        "type(var1)"
      ],
      "metadata": {
        "id": "RKp6l53ZRTmE",
        "colab": {
          "base_uri": "https://localhost:8080/"
        },
        "outputId": "2848faa5-685f-4493-c76e-b21d30676178"
      },
      "execution_count": 19,
      "outputs": [
        {
          "output_type": "execute_result",
          "data": {
            "text/plain": [
              "str"
            ]
          },
          "metadata": {},
          "execution_count": 19
        }
      ]
    },
    {
      "cell_type": "code",
      "source": [
        "var2 = '[ DS , ML , Python]'\n",
        "type(var2)"
      ],
      "metadata": {
        "colab": {
          "base_uri": "https://localhost:8080/"
        },
        "id": "e_JPz6sB5sv2",
        "outputId": "8da108c1-d7bf-48dc-f532-b00fce64daf4"
      },
      "execution_count": 21,
      "outputs": [
        {
          "output_type": "execute_result",
          "data": {
            "text/plain": [
              "str"
            ]
          },
          "metadata": {},
          "execution_count": 21
        }
      ]
    },
    {
      "cell_type": "code",
      "source": [
        "var3 = [ 'DS' , 'ML' , 'Python' ]\n",
        "type(var3)"
      ],
      "metadata": {
        "colab": {
          "base_uri": "https://localhost:8080/"
        },
        "id": "SIfT9X5r59jX",
        "outputId": "9fbe0a28-28a9-423f-fb41-036536e329e3"
      },
      "execution_count": 24,
      "outputs": [
        {
          "output_type": "execute_result",
          "data": {
            "text/plain": [
              "list"
            ]
          },
          "metadata": {},
          "execution_count": 24
        }
      ]
    },
    {
      "cell_type": "code",
      "source": [
        " var4 = 1\n",
        " type(var4)"
      ],
      "metadata": {
        "colab": {
          "base_uri": "https://localhost:8080/"
        },
        "id": "vATUXVbC6njm",
        "outputId": "2ce99625-a5a6-47cc-f6a7-dec5cbd98d2d"
      },
      "execution_count": 26,
      "outputs": [
        {
          "output_type": "execute_result",
          "data": {
            "text/plain": [
              "int"
            ]
          },
          "metadata": {},
          "execution_count": 26
        }
      ]
    },
    {
      "cell_type": "markdown",
      "source": [
        "Q3. Explain the use of the following operators using an example:\n",
        "(i) /\n",
        "(ii) %\n",
        "(iii) //\n",
        "(iv) **"
      ],
      "metadata": {
        "id": "s6cmJ5eG7UEY"
      }
    },
    {
      "cell_type": "markdown",
      "source": [
        "(i) /\n",
        "\n",
        "*   (/) is called the division operator \n",
        "*   it is used to divide the values\n",
        "\n",
        "*  Ex.\n",
        "\n",
        "\n",
        "\n"
      ],
      "metadata": {
        "id": "_RO0bObM7Vs-"
      }
    },
    {
      "cell_type": "code",
      "source": [
        "10/5"
      ],
      "metadata": {
        "colab": {
          "base_uri": "https://localhost:8080/"
        },
        "id": "9jU8B0Rc6vJ5",
        "outputId": "086513d7-5e86-41ba-9047-462e6d0ba408"
      },
      "execution_count": 27,
      "outputs": [
        {
          "output_type": "execute_result",
          "data": {
            "text/plain": [
              "2.0"
            ]
          },
          "metadata": {},
          "execution_count": 27
        }
      ]
    },
    {
      "cell_type": "markdown",
      "source": [
        "(ii) %\n",
        "\n",
        "\n",
        "*   (%) is called the modulus operator \n",
        "*  it is used to find  the remander of the values \n",
        "\n",
        "\n"
      ],
      "metadata": {
        "id": "-K_8emJC71ds"
      }
    },
    {
      "cell_type": "code",
      "source": [
        "10%3"
      ],
      "metadata": {
        "colab": {
          "base_uri": "https://localhost:8080/"
        },
        "id": "_-5mplEX7z6s",
        "outputId": "7d2bc4f2-30a5-4c8e-eaa4-82a6290327a4"
      },
      "execution_count": 28,
      "outputs": [
        {
          "output_type": "execute_result",
          "data": {
            "text/plain": [
              "1"
            ]
          },
          "metadata": {},
          "execution_count": 28
        }
      ]
    },
    {
      "cell_type": "markdown",
      "source": [
        "\n",
        "(iii) // \n",
        "\n",
        "*  it is used to neglact the decimal values  \n",
        "*  Ex.\n",
        "\n",
        "\n",
        "\n",
        "\n",
        "\n"
      ],
      "metadata": {
        "id": "cIkowtkZ8YhI"
      }
    },
    {
      "cell_type": "code",
      "source": [
        "1//5"
      ],
      "metadata": {
        "colab": {
          "base_uri": "https://localhost:8080/"
        },
        "id": "FSwZJuVv8WUN",
        "outputId": "440b95b0-692a-45a8-f278-18ef1cd0abcd"
      },
      "execution_count": 29,
      "outputs": [
        {
          "output_type": "execute_result",
          "data": {
            "text/plain": [
              "0"
            ]
          },
          "metadata": {},
          "execution_count": 29
        }
      ]
    },
    {
      "cell_type": "markdown",
      "source": [
        "(iv) **\n",
        "\n",
        "\n",
        "*   it is used to calculate the squre ,cube etc \n",
        "*   Ex. \n",
        "\n"
      ],
      "metadata": {
        "id": "w4Hj04on82yM"
      }
    },
    {
      "cell_type": "code",
      "source": [
        "2**2"
      ],
      "metadata": {
        "colab": {
          "base_uri": "https://localhost:8080/"
        },
        "id": "L6RPPB7Q8wgb",
        "outputId": "f4fffd47-24d1-434e-be5c-83a2142f5244"
      },
      "execution_count": 30,
      "outputs": [
        {
          "output_type": "execute_result",
          "data": {
            "text/plain": [
              "4"
            ]
          },
          "metadata": {},
          "execution_count": 30
        }
      ]
    },
    {
      "cell_type": "code",
      "source": [
        "2**3"
      ],
      "metadata": {
        "colab": {
          "base_uri": "https://localhost:8080/"
        },
        "id": "Kb1mFI-X9HTD",
        "outputId": "fa479a91-007f-47c4-98e2-1baa58e0a5bc"
      },
      "execution_count": 31,
      "outputs": [
        {
          "output_type": "execute_result",
          "data": {
            "text/plain": [
              "8"
            ]
          },
          "metadata": {},
          "execution_count": 31
        }
      ]
    },
    {
      "cell_type": "markdown",
      "source": [
        "Q4. Create a list of length 10 of your choice containing multiple types of data. Using for loop print the\n",
        "element and its data type."
      ],
      "metadata": {
        "id": "gZ0G6APp9hkr"
      }
    },
    {
      "cell_type": "code",
      "source": [
        "l1 = [ 1,'kuldeep',1.5,2.5454688,True,5+6j,7j,8,9,6]\n",
        "for i in l1:\n",
        "  print(i)\n",
        "  v = type(i)\n",
        "  print(v)"
      ],
      "metadata": {
        "colab": {
          "base_uri": "https://localhost:8080/"
        },
        "id": "B0MbIwCI9IpW",
        "outputId": "6c46816f-677e-4372-ccd5-b3235a4b7c6a"
      },
      "execution_count": 33,
      "outputs": [
        {
          "output_type": "stream",
          "name": "stdout",
          "text": [
            "1\n",
            "<class 'int'>\n",
            "kuldeep\n",
            "<class 'str'>\n",
            "1.5\n",
            "<class 'float'>\n",
            "2.5454688\n",
            "<class 'float'>\n",
            "True\n",
            "<class 'bool'>\n",
            "(5+6j)\n",
            "<class 'complex'>\n",
            "7j\n",
            "<class 'complex'>\n",
            "8\n",
            "<class 'int'>\n",
            "9\n",
            "<class 'int'>\n",
            "6\n",
            "<class 'int'>\n"
          ]
        }
      ]
    },
    {
      "cell_type": "markdown",
      "source": [
        "Q5. Using a while loop, verify if the number A is purely divisible by number B and if so then how many\n",
        "times it can be divisible."
      ],
      "metadata": {
        "id": "iTCOF-nr-YeZ"
      }
    },
    {
      "cell_type": "code",
      "source": [
        "# Taking input of two numbers\n",
        "A = int(input(\"Enter the first number: \"))\n",
        "B = int(input(\"Enter the second number: \"))\n",
        "\n",
        "count = 0 \n",
        "\n",
        "while A % B == 0:\n",
        "    A = A / B\n",
        "    count += 1\n",
        "\n",
        "if count > 0:\n",
        "    print(f\"{B} divides {A} {count} times.\")\n",
        "else:\n",
        "    print(f\"{B} does not divide {A} evenly.\")\n",
        "\n",
        "  \n",
        "   \n",
        "  "
      ],
      "metadata": {
        "colab": {
          "base_uri": "https://localhost:8080/"
        },
        "id": "hLVJUUSy-ElF",
        "outputId": "a430be1e-a46d-4e9d-926e-2b41a863e986"
      },
      "execution_count": 50,
      "outputs": [
        {
          "output_type": "stream",
          "name": "stdout",
          "text": [
            "Enter the first number: 570\n",
            "Enter the second number: 5\n",
            "5 divides 114.0 1 times.\n"
          ]
        }
      ]
    },
    {
      "cell_type": "markdown",
      "source": [
        "Q6. Create a list containing 25 int type data. Using for loop and if-else condition print if the element is\n",
        "divisible by 3 or not."
      ],
      "metadata": {
        "id": "aJ1hxtojFNMM"
      }
    },
    {
      "cell_type": "code",
      "source": [
        "l3 = list(range(1,26)) \n",
        "print(l3)\n",
        "\n",
        "for i in l3:\n",
        "  \n",
        "  if i % 3 == 0 :\n",
        "    print(i,\"Is divisibal by 3\")\n",
        "  else:\n",
        "    print(i,\"Is not divisiable by 3\") \n",
        "\n",
        "\n"
      ],
      "metadata": {
        "colab": {
          "base_uri": "https://localhost:8080/"
        },
        "id": "GLL3v0Up_GEA",
        "outputId": "cbfb7c00-fd0e-4e57-b739-31364d36bd0b"
      },
      "execution_count": 61,
      "outputs": [
        {
          "output_type": "stream",
          "name": "stdout",
          "text": [
            "[1, 2, 3, 4, 5, 6, 7, 8, 9, 10, 11, 12, 13, 14, 15, 16, 17, 18, 19, 20, 21, 22, 23, 24, 25]\n",
            "1 Is not divisiable by 3\n",
            "2 Is not divisiable by 3\n",
            "3 Is divisibal by 3\n",
            "4 Is not divisiable by 3\n",
            "5 Is not divisiable by 3\n",
            "6 Is divisibal by 3\n",
            "7 Is not divisiable by 3\n",
            "8 Is not divisiable by 3\n",
            "9 Is divisibal by 3\n",
            "10 Is not divisiable by 3\n",
            "11 Is not divisiable by 3\n",
            "12 Is divisibal by 3\n",
            "13 Is not divisiable by 3\n",
            "14 Is not divisiable by 3\n",
            "15 Is divisibal by 3\n",
            "16 Is not divisiable by 3\n",
            "17 Is not divisiable by 3\n",
            "18 Is divisibal by 3\n",
            "19 Is not divisiable by 3\n",
            "20 Is not divisiable by 3\n",
            "21 Is divisibal by 3\n",
            "22 Is not divisiable by 3\n",
            "23 Is not divisiable by 3\n",
            "24 Is divisibal by 3\n",
            "25 Is not divisiable by 3\n"
          ]
        }
      ]
    },
    {
      "cell_type": "markdown",
      "source": [
        "Q7. What do you understand about mutable and immutable data types? Give examples for both showing\n",
        "this property."
      ],
      "metadata": {
        "id": "d1K1_frIKvan"
      }
    },
    {
      "cell_type": "markdown",
      "source": [
        "Ans. An immutable object is an object whose value cannot be changed once it is created. Any operation that appears to modify an immutable object actually creates a new object with the modified value. Examples of immutable data types in Python include integers, floats, complex numbers, strings, and tuples.\n",
        "\n",
        "> \n",
        "\n"
      ],
      "metadata": {
        "id": "O9sgWmGGK-6a"
      }
    },
    {
      "cell_type": "code",
      "source": [
        "# Creating a tuple\n",
        "my_tuple = (1, 2, 3)\n",
        "\n",
        "# Trying to change the first element of the tuple\n",
        "my_tuple[0] = 4  # This will raise a TypeError: 'tuple' object does not support item assignment\n"
      ],
      "metadata": {
        "id": "JaEAxP7KIxjW"
      },
      "execution_count": null,
      "outputs": []
    },
    {
      "cell_type": "markdown",
      "source": [
        "A mutable object, on the other hand, is an object whose value can be changed once it is created. Examples of mutable data types in Python include lists, dictionaries, and sets.\n",
        "\n",
        "Here's an example to demonstrate the mutability of a list:"
      ],
      "metadata": {
        "id": "XvVfgXiNLNf4"
      }
    },
    {
      "cell_type": "code",
      "source": [
        "# Creating a list\n",
        "my_list = [1, 2, 3]\n",
        "\n",
        "# Changing the first element of the list\n",
        "my_list[0] = 4\n",
        "\n",
        "print(my_list)  # Output: [4, 2, 3]\n"
      ],
      "metadata": {
        "id": "M-GlOdHqLTXK"
      },
      "execution_count": null,
      "outputs": []
    }
  ]
}